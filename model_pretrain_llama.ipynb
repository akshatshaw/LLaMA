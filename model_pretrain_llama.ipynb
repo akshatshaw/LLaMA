{
  "cells": [
    {
      "cell_type": "markdown",
      "metadata": {
        "id": "view-in-github",
        "colab_type": "text"
      },
      "source": [
        "<a href=\"https://colab.research.google.com/github/akshatshaw/LLaMA/blob/main/model_pretrain_llama.ipynb\" target=\"_parent\"><img src=\"https://colab.research.google.com/assets/colab-badge.svg\" alt=\"Open In Colab\"/></a>"
      ]
    },
    {
      "cell_type": "code",
      "source": [
        "!git clone https://github.com/akshatshaw/LLaMA"
      ],
      "metadata": {
        "id": "Y0aptf1LXP3O",
        "outputId": "f09e80b5-6689-454e-9ab5-a4ac4351db9e",
        "colab": {
          "base_uri": "https://localhost:8080/"
        }
      },
      "execution_count": 2,
      "outputs": [
        {
          "output_type": "stream",
          "name": "stdout",
          "text": [
            "Cloning into 'LLaMA'...\n",
            "remote: Enumerating objects: 43, done.\u001b[K\n",
            "remote: Counting objects: 100% (43/43), done.\u001b[K\n",
            "remote: Compressing objects: 100% (34/34), done.\u001b[K\n",
            "remote: Total 43 (delta 17), reused 34 (delta 8), pack-reused 0 (from 0)\u001b[K\n",
            "Receiving objects: 100% (43/43), 1.67 MiB | 9.47 MiB/s, done.\n",
            "Resolving deltas: 100% (17/17), done.\n"
          ]
        }
      ]
    },
    {
      "cell_type": "code",
      "source": [
        "cd LLaMA/"
      ],
      "metadata": {
        "id": "W0nS8b1uXi1M",
        "outputId": "55290fa9-8171-4332-b558-56ed666f0886",
        "colab": {
          "base_uri": "https://localhost:8080/"
        }
      },
      "execution_count": 3,
      "outputs": [
        {
          "output_type": "stream",
          "name": "stdout",
          "text": [
            "/content/LLaMA\n"
          ]
        }
      ]
    },
    {
      "cell_type": "code",
      "execution_count": 4,
      "metadata": {
        "id": "i0wyyO2rKFhV"
      },
      "outputs": [],
      "source": [
        "import torch\n",
        "from model import *\n",
        "from utils import *\n",
        "# args.device = \"cpu\"\n",
        "# args.vocab_size = 150000"
      ]
    },
    {
      "cell_type": "code",
      "execution_count": 6,
      "metadata": {
        "id": "omzbB-P_KtUn"
      },
      "outputs": [],
      "source": [
        "model = Model(args).to(args.device)"
      ]
    },
    {
      "cell_type": "code",
      "execution_count": null,
      "metadata": {
        "id": "_pfHG2QSXMh7"
      },
      "outputs": [],
      "source": [
        "# !pip install transformers\n",
        "# !pip install tiktoken"
      ]
    },
    {
      "cell_type": "code",
      "execution_count": 5,
      "metadata": {
        "colab": {
          "base_uri": "https://localhost:8080/",
          "height": 242,
          "referenced_widgets": [
            "ca1b42a2bcb34e95b099c1eb69aae19d",
            "ac6da783ff35464b8863693f63bd1b46",
            "0d57851e14874841b75f8a23bdca43b2",
            "c39dd3bceb5946fdb33ce72a919b301a",
            "538054ec5bcd44918f31a632f7bd4312",
            "78b759d3b7ef49f7961e850fea206263",
            "9fded0615fca4c768b747634950610cd",
            "cf71605a66914521a52dbc8bec1e6066",
            "7ebe120562aa43feb3c3f859c1386eca",
            "c29175b03b05464f953eb1c921783526",
            "c0cdf3a6873447aca0db9635451a2977",
            "29b0a08432a8467e8c41c05743026bfd",
            "8cc90787410440919668b444866303e5",
            "f430b4d2ce7d41fab3c93adbece9cbf8",
            "aebf4da823f9455aa13b0495d1aca246",
            "36272f2bfa7d4378a799f81fccbfb6e5",
            "023edbf73f9746b096abf2c45c041e31",
            "5470bf38019945698b9aecf315f0df5a",
            "59840d1aab274a049c7038aab2898454",
            "26dcb728856d48dba0aa8fc836c06aa9",
            "99f4464dbef44850b8debe738bb22035",
            "f065a22e4e194e55b8b1d0c60f0c35b1",
            "48f2b9bbe5be4d0bb8d2185f6968ab32",
            "25c14deb032e47308797d3d4107ae102",
            "fc733a15098a4dd8b97df8d523ec8a30",
            "6ea8ed7ceaaa4a73a92336c6991574c9",
            "7d735010eff6495dac1fa77dcdba9587",
            "2040529f64b248b68c5dcd374c35f5e9",
            "306cde3cef444692a47ce669c687cb7b",
            "d57c820cd7774f14be3ca43ee797e6e2",
            "af0e7666e1cb4e0d9f906f1a1df480d9",
            "927af06a2b3a4e37a4609141faec09d0",
            "c39cf87fc6334375ad0d9668a540d264"
          ]
        },
        "id": "lYyk-kMiKeOb",
        "outputId": "bd5a5b27-8b6d-4af8-e406-ffdb0010548d"
      },
      "outputs": [
        {
          "output_type": "stream",
          "name": "stderr",
          "text": [
            "/usr/local/lib/python3.11/dist-packages/huggingface_hub/utils/_auth.py:94: UserWarning: \n",
            "The secret `HF_TOKEN` does not exist in your Colab secrets.\n",
            "To authenticate with the Hugging Face Hub, create a token in your settings tab (https://huggingface.co/settings/tokens), set it as secret in your Google Colab and restart your session.\n",
            "You will be able to reuse this secret in all of your notebooks.\n",
            "Please note that authentication is recommended but still optional to access public models or datasets.\n",
            "  warnings.warn(\n"
          ]
        },
        {
          "output_type": "display_data",
          "data": {
            "text/plain": [
              "tokenizer_config.json:   0%|          | 0.00/707 [00:00<?, ?B/s]"
            ],
            "application/vnd.jupyter.widget-view+json": {
              "version_major": 2,
              "version_minor": 0,
              "model_id": "ca1b42a2bcb34e95b099c1eb69aae19d"
            }
          },
          "metadata": {}
        },
        {
          "output_type": "display_data",
          "data": {
            "text/plain": [
              "tokenizer.json:   0%|          | 0.00/13.4M [00:00<?, ?B/s]"
            ],
            "application/vnd.jupyter.widget-view+json": {
              "version_major": 2,
              "version_minor": 0,
              "model_id": "29b0a08432a8467e8c41c05743026bfd"
            }
          },
          "metadata": {}
        },
        {
          "output_type": "display_data",
          "data": {
            "text/plain": [
              "special_tokens_map.json:   0%|          | 0.00/3.00 [00:00<?, ?B/s]"
            ],
            "application/vnd.jupyter.widget-view+json": {
              "version_major": 2,
              "version_minor": 0,
              "model_id": "48f2b9bbe5be4d0bb8d2185f6968ab32"
            }
          },
          "metadata": {}
        }
      ],
      "source": [
        "from transformers import AutoTokenizer, PreTrainedTokenizerFast\n",
        "\n",
        "tokenizer = AutoTokenizer.from_pretrained(\"akshatshaw/LLaMA_hin1\")\n",
        "# import tiktoken\n",
        "# tokenizer = tiktoken.get_encoding(\"gpt2\")"
      ]
    },
    {
      "cell_type": "code",
      "execution_count": 7,
      "metadata": {
        "colab": {
          "base_uri": "https://localhost:8080/"
        },
        "id": "j8IMHHA1K8fv",
        "outputId": "0e6f31ad-5c83-4efc-98ca-f9b0abf82c14"
      },
      "outputs": [
        {
          "output_type": "execute_result",
          "data": {
            "text/plain": [
              "tensor([[ 6591,  6410, 17978,  6295,  7096,  6078, 12466,  8058, 10779,  6073,\n",
              "            56]], device='cuda:0')"
            ]
          },
          "metadata": {},
          "execution_count": 7
        }
      ],
      "source": [
        "start_context = \"आपके द्वारा चुनी गई भाषा में लिखना आसान बनाता है|\"\n",
        "text_to_token_ids(start_context, tokenizer)"
      ]
    },
    {
      "cell_type": "code",
      "execution_count": 8,
      "metadata": {
        "colab": {
          "base_uri": "https://localhost:8080/"
        },
        "id": "jpKTo1r1KljE",
        "outputId": "6a5981c9-31b2-45a6-f1e7-67491df1147c"
      },
      "outputs": [
        {
          "output_type": "stream",
          "name": "stdout",
          "text": [
            "Output text:\n",
            " आपके द्वारा चुनी गई भाषा में लिखना आसान बनाता है | लास्‍लो परेशानी फीयर रोकने इलाह तोहरे एकला गरीब कॉरेसपोंडेंस सौदर्य\n"
          ]
        }
      ],
      "source": [
        "torch.manual_seed(10)\n",
        "token_ids = generate_text_simple(\n",
        "    model=model,\n",
        "    idx=text_to_token_ids(start_context, tokenizer),\n",
        "    max_new_tokens=10,\n",
        "    context_size=args.max_seq_len\n",
        ")\n",
        "print(\"Output text:\\n\", token_ids_to_text(token_ids, tokenizer))"
      ]
    },
    {
      "cell_type": "code",
      "execution_count": 9,
      "metadata": {
        "id": "8LDdjJipMSS_"
      },
      "outputs": [],
      "source": [
        "file_path = \"Full_text_Bible.txt\"\n",
        "with open(file_path, \"r\", encoding=\"utf-8\") as file:\n",
        " text_data = file.read()"
      ]
    },
    {
      "cell_type": "code",
      "execution_count": 10,
      "metadata": {
        "colab": {
          "base_uri": "https://localhost:8080/"
        },
        "id": "Mu6rn-xRUZYN",
        "outputId": "f171664a-5c4f-416b-d355-a8bf91e1566c"
      },
      "outputs": [
        {
          "output_type": "stream",
          "name": "stdout",
          "text": [
            "Characters: 3693013\n",
            "Tokens: 936185\n"
          ]
        }
      ],
      "source": [
        "total_characters = len(text_data)\n",
        "total_tokens = len(tokenizer.encode(text_data))\n",
        "print(\"Characters:\", total_characters)\n",
        "print(\"Tokens:\", total_tokens)"
      ]
    },
    {
      "cell_type": "code",
      "execution_count": 11,
      "metadata": {
        "id": "G-zM8GIxUZVp"
      },
      "outputs": [],
      "source": [
        "train_ratio = 0.90\n",
        "split_idx = int(train_ratio * len(text_data))\n",
        "train_data = text_data[:split_idx]\n",
        "val_data = text_data[split_idx:]"
      ]
    },
    {
      "cell_type": "code",
      "execution_count": 12,
      "metadata": {
        "colab": {
          "base_uri": "https://localhost:8080/"
        },
        "id": "ycQsWF8QUZTU",
        "outputId": "bf46f26c-b563-4f07-a5ad-ab4c35b21121"
      },
      "outputs": [
        {
          "output_type": "execute_result",
          "data": {
            "text/plain": [
              "3656"
            ]
          },
          "metadata": {},
          "execution_count": 12
        }
      ],
      "source": [
        "dataset = ModelDataset(text_data, tokenizer, args.max_seq_len, args.max_seq_len)\n",
        "dataset.__len__()"
      ]
    },
    {
      "cell_type": "code",
      "execution_count": 13,
      "metadata": {
        "id": "2FMN0InYUZRE"
      },
      "outputs": [],
      "source": [
        "torch.manual_seed(123)\n",
        "train_loader = create_dataloader_v1(\n",
        " train_data,\n",
        " tokenizer,\n",
        " batch_size=2,\n",
        " max_length=args.max_seq_len,\n",
        " stride=args.max_seq_len,\n",
        " drop_last=True,\n",
        " shuffle=True,\n",
        " num_workers=0\n",
        ")\n",
        "val_loader = create_dataloader_v1(\n",
        " val_data,\n",
        " tokenizer,\n",
        " batch_size=2,\n",
        " max_length=args.max_seq_len,\n",
        " stride=args.max_seq_len,\n",
        " drop_last=False,\n",
        " shuffle=False,\n",
        " num_workers=0\n",
        ")"
      ]
    },
    {
      "cell_type": "code",
      "execution_count": 14,
      "metadata": {
        "collapsed": true,
        "id": "_FCAmh0AWFJE",
        "outputId": "346f76ab-13fc-4d96-e53d-70bb497796c1",
        "colab": {
          "base_uri": "https://localhost:8080/"
        }
      },
      "outputs": [
        {
          "output_type": "stream",
          "name": "stdout",
          "text": [
            "Train loader:\n",
            "torch.Size([2, 256]) torch.Size([2, 256])\n",
            "\n",
            "Validation loader:\n",
            "torch.Size([2, 256]) torch.Size([2, 256])\n"
          ]
        }
      ],
      "source": [
        "print(\"Train loader:\")\n",
        "for x, y in train_loader:\n",
        " print(x.shape, y.shape)\n",
        " break\n",
        "print(\"\\nValidation loader:\")\n",
        "for x, y in val_loader:\n",
        " print(x.shape, y.shape)\n",
        " break"
      ]
    },
    {
      "cell_type": "code",
      "execution_count": 15,
      "metadata": {
        "id": "U2ms8V3uUZO1"
      },
      "outputs": [],
      "source": [
        "def calc_loss_batch(input_batch, target_batch, model, device= args.device):\n",
        " input_batch = input_batch.to(device)\n",
        " target_batch = target_batch.to(device)\n",
        " logits = model(input_batch)\n",
        " loss = torch.nn.functional.cross_entropy(\n",
        "    logits.flatten(0, 1), target_batch.flatten()\n",
        " )\n",
        " return loss"
      ]
    },
    {
      "cell_type": "code",
      "execution_count": 16,
      "metadata": {
        "id": "s7UouC6RUZMh"
      },
      "outputs": [],
      "source": [
        "def calc_loss_loader(data_loader, model, device= args.device, num_batches=None):\n",
        "    total_loss = 0\n",
        "    if len(data_loader) == 0:\n",
        "        return float(\"nan\")\n",
        "    elif num_batches is None:\n",
        "        num_batches = len(data_loader)\n",
        "    else:\n",
        "        num_batches = min(num_batches, len(data_loader))\n",
        "    for i, (input_batch, target_batch) in enumerate(data_loader):\n",
        "        if i < num_batches:\n",
        "            loss = calc_loss_batch(\n",
        "                input_batch, target_batch, model, device\n",
        "            )\n",
        "            total_loss += loss.item()\n",
        "        else:\n",
        "            break\n",
        "    return total_loss / num_batches # Averages the loss over all batches"
      ]
    },
    {
      "cell_type": "code",
      "execution_count": 17,
      "metadata": {
        "colab": {
          "base_uri": "https://localhost:8080/"
        },
        "id": "Tycrjq-IUZKC",
        "outputId": "4906b4f0-2e39-44e9-8fb5-83f6e161e03e"
      },
      "outputs": [
        {
          "output_type": "stream",
          "name": "stdout",
          "text": [
            "Training loss: 12.073393342854978\n",
            "Validation loss: 12.057029878626988\n"
          ]
        }
      ],
      "source": [
        "torch.manual_seed(10)\n",
        "with torch.no_grad():\n",
        "  train_loss = calc_loss_loader(train_loader, model)\n",
        "  val_loss = calc_loss_loader(val_loader, model)\n",
        "print(\"Training loss:\", train_loss)\n",
        "print(\"Validation loss:\", val_loss)"
      ]
    },
    {
      "cell_type": "code",
      "execution_count": 18,
      "metadata": {
        "id": "KMKrlaPiXMh_"
      },
      "outputs": [],
      "source": [
        "def train_model_simple(model, train_loader, val_loader,optimizer, device, num_epochs,eval_freq, eval_iter, start_context, tokenizer):\n",
        "    train_losses, val_losses, track_tokens_seen = [], [], []   # tracking losses and token seen\n",
        "    tokens_seen, global_step = 0, -1\n",
        "    for epoch in range(num_epochs): # Main training loop\n",
        "        model.train()\n",
        "        for input_batch, target_batch in train_loader: # this loop iterates in batches\n",
        "\n",
        "            # model.apply(lambda module: module.reset_kv_cache() if isinstance(module, MHA) else None)\n",
        "\n",
        "            optimizer.zero_grad()           # reset loss gradient from previous batch iteration\n",
        "            loss = calc_loss_batch(\n",
        "                 input_batch, target_batch, model, device\n",
        "            )\n",
        "            loss.backward() # loss gradient\n",
        "            optimizer.step() # update model weights using loss gradients\n",
        "            tokens_seen += input_batch.numel()\n",
        "            global_step += 1\n",
        "            if global_step % eval_freq == 0: # Optional evaluation\n",
        "                train_loss, val_loss = evaluate_model(model, train_loader, val_loader, device, eval_iter)\n",
        "                train_losses.append(train_loss)\n",
        "                val_losses.append(val_loss)\n",
        "                track_tokens_seen.append(tokens_seen)\n",
        "                print(f\"Ep {epoch+1} (Step {global_step:06d}): \"\n",
        "                f\"Train loss {train_loss:.3f}, \"\n",
        "                f\"Val loss {val_loss:.3f}\")\n",
        "        generate_and_print_sample(model, tokenizer, device, start_context)\n",
        "    return train_losses, val_losses, track_tokens_seen"
      ]
    },
    {
      "cell_type": "code",
      "execution_count": 19,
      "metadata": {
        "id": "zEf7jYRBXMh_"
      },
      "outputs": [],
      "source": [
        "# Evaluating the validation losses\n",
        "def evaluate_model(model, train_loader, val_loader, device, eval_iter):\n",
        "    model.eval()     # dropouts are disabled\n",
        "    with torch.no_grad(): # disablibng the graddient tracking\n",
        "        train_loss = calc_loss_loader(\n",
        "                    train_loader, model, device, num_batches=eval_iter\n",
        "            )\n",
        "        val_loss = calc_loss_loader(\n",
        "                     val_loader, model, device, num_batches=eval_iter\n",
        "            )\n",
        "    model.train()\n",
        "    return train_loss, val_loss"
      ]
    },
    {
      "cell_type": "code",
      "execution_count": 20,
      "metadata": {
        "id": "59q4m9k4XMh_"
      },
      "outputs": [],
      "source": [
        "# Generating and printing a sample text using the genearte_and_print_sample function\n",
        "def generate_and_print_sample(model, tokenizer, device, start_context):\n",
        "    model.eval()\n",
        "    context_size = args.max_seq_len\n",
        "    encoded = text_to_token_ids(start_context, tokenizer).to(device)\n",
        "    with torch.no_grad():\n",
        "        token_ids = generate_text_simple(\n",
        "            model=model, idx=encoded,\n",
        "            max_new_tokens=50, context_size=context_size\n",
        "            )\n",
        "    decoded_text = token_ids_to_text(token_ids, tokenizer)\n",
        "    print(decoded_text.replace(\"\\n\", \" \"))\n",
        "    model.train()"
      ]
    },
    {
      "cell_type": "code",
      "source": [
        "# torch.cuda.empty_cache()"
      ],
      "metadata": {
        "id": "m9WMTN6sY904"
      },
      "execution_count": 22,
      "outputs": []
    },
    {
      "cell_type": "code",
      "execution_count": 23,
      "metadata": {
        "id": "ls6raZ9BXMh_",
        "outputId": "9bff3e9b-950a-434c-d9da-63aecc82dd46",
        "colab": {
          "base_uri": "https://localhost:8080/",
          "height": 1000
        }
      },
      "outputs": [
        {
          "output_type": "stream",
          "name": "stdout",
          "text": [
            "Ep 1 (Step 000000): Train loss 11.480, Val loss 11.415\n",
            "Ep 1 (Step 000005): Train loss 9.013, Val loss 8.839\n",
            "Ep 1 (Step 000010): Train loss 7.528, Val loss 7.202\n",
            "Ep 1 (Step 000015): Train loss 6.782, Val loss 6.649\n",
            "Ep 1 (Step 000020): Train loss 6.832, Val loss 6.443\n",
            "Ep 1 (Step 000025): Train loss 6.585, Val loss 6.337\n",
            "Ep 1 (Step 000030): Train loss 6.266, Val loss 6.254\n",
            "Ep 1 (Step 000035): Train loss 6.140, Val loss 6.257\n",
            "Ep 1 (Step 000040): Train loss 6.274, Val loss 6.131\n",
            "Ep 1 (Step 000045): Train loss 6.026, Val loss 6.036\n",
            "Ep 1 (Step 000050): Train loss 6.063, Val loss 6.018\n",
            "Ep 1 (Step 000055): Train loss 5.901, Val loss 5.959\n",
            "Ep 1 (Step 000060): Train loss 5.940, Val loss 5.915\n",
            "Ep 1 (Step 000065): Train loss 5.667, Val loss 5.894\n",
            "Ep 1 (Step 000070): Train loss 5.565, Val loss 5.779\n",
            "Ep 1 (Step 000075): Train loss 5.551, Val loss 5.584\n",
            "Ep 1 (Step 000080): Train loss 5.414, Val loss 5.527\n",
            "Ep 1 (Step 000085): Train loss 5.454, Val loss 5.473\n",
            "Ep 1 (Step 000090): Train loss 5.490, Val loss 5.428\n",
            "Ep 1 (Step 000095): Train loss 5.187, Val loss 5.264\n",
            "Ep 1 (Step 000100): Train loss 5.204, Val loss 5.238\n",
            "Ep 1 (Step 000105): Train loss 5.114, Val loss 5.177\n",
            "Ep 1 (Step 000110): Train loss 4.990, Val loss 5.129\n",
            "Ep 1 (Step 000115): Train loss 4.935, Val loss 5.036\n",
            "Ep 1 (Step 000120): Train loss 4.917, Val loss 4.962\n",
            "Ep 1 (Step 000125): Train loss 4.598, Val loss 4.869\n",
            "Ep 1 (Step 000130): Train loss 4.795, Val loss 4.800\n",
            "Ep 1 (Step 000135): Train loss 4.754, Val loss 4.734\n",
            "Ep 1 (Step 000140): Train loss 4.525, Val loss 4.627\n",
            "Ep 1 (Step 000145): Train loss 4.561, Val loss 4.622\n",
            "Ep 1 (Step 000150): Train loss 4.355, Val loss 4.605\n",
            "Ep 1 (Step 000155): Train loss 4.152, Val loss 4.459\n",
            "Ep 1 (Step 000160): Train loss 3.990, Val loss 4.425\n",
            "Ep 1 (Step 000165): Train loss 3.903, Val loss 4.330\n",
            "Ep 1 (Step 000170): Train loss 4.031, Val loss 4.259\n",
            "Ep 1 (Step 000175): Train loss 4.044, Val loss 4.220\n",
            "Ep 1 (Step 000180): Train loss 3.777, Val loss 4.117\n",
            "Ep 1 (Step 000185): Train loss 3.963, Val loss 4.005\n",
            "Ep 1 (Step 000190): Train loss 3.932, Val loss 3.941\n",
            "Ep 1 (Step 000195): Train loss 3.773, Val loss 3.918\n",
            "Ep 1 (Step 000200): Train loss 3.617, Val loss 3.853\n",
            "Ep 1 (Step 000205): Train loss 3.469, Val loss 3.789\n",
            "Ep 1 (Step 000210): Train loss 3.634, Val loss 3.714\n",
            "Ep 1 (Step 000215): Train loss 3.847, Val loss 3.597\n",
            "Ep 1 (Step 000220): Train loss 3.766, Val loss 3.635\n",
            "Ep 1 (Step 000225): Train loss 3.237, Val loss 3.542\n",
            "Ep 1 (Step 000230): Train loss 3.459, Val loss 3.549\n",
            "Ep 1 (Step 000235): Train loss 3.514, Val loss 3.410\n",
            "Ep 1 (Step 000240): Train loss 3.205, Val loss 3.334\n",
            "Ep 1 (Step 000245): Train loss 3.108, Val loss 3.307\n",
            "Ep 1 (Step 000250): Train loss 3.090, Val loss 3.336\n",
            "Ep 1 (Step 000255): Train loss 3.037, Val loss 3.155\n",
            "Ep 1 (Step 000260): Train loss 2.818, Val loss 3.058\n",
            "Ep 1 (Step 000265): Train loss 3.166, Val loss 3.090\n",
            "Ep 1 (Step 000270): Train loss 2.685, Val loss 3.046\n",
            "Ep 1 (Step 000275): Train loss 2.892, Val loss 3.050\n",
            "Ep 1 (Step 000280): Train loss 2.943, Val loss 2.978\n",
            "Ep 1 (Step 000285): Train loss 2.827, Val loss 2.876\n",
            "Ep 1 (Step 000290): Train loss 2.980, Val loss 2.846\n",
            "Ep 1 (Step 000295): Train loss 2.464, Val loss 2.853\n",
            "Ep 1 (Step 000300): Train loss 2.995, Val loss 2.859\n",
            "Ep 1 (Step 000305): Train loss 2.407, Val loss 2.846\n",
            "Ep 1 (Step 000310): Train loss 2.565, Val loss 2.717\n",
            "Ep 1 (Step 000315): Train loss 2.370, Val loss 2.679\n",
            "Ep 1 (Step 000320): Train loss 2.592, Val loss 2.656\n",
            "Ep 1 (Step 000325): Train loss 2.610, Val loss 2.670\n",
            "Ep 1 (Step 000330): Train loss 2.802, Val loss 2.629\n",
            "Ep 1 (Step 000335): Train loss 2.520, Val loss 2.558\n",
            "Ep 1 (Step 000340): Train loss 2.142, Val loss 2.513\n",
            "Ep 1 (Step 000345): Train loss 2.259, Val loss 2.486\n",
            "Ep 1 (Step 000350): Train loss 2.356, Val loss 2.456\n",
            "Ep 1 (Step 000355): Train loss 2.591, Val loss 2.408\n",
            "Ep 1 (Step 000360): Train loss 2.698, Val loss 2.401\n",
            "Ep 1 (Step 000365): Train loss 2.330, Val loss 2.418\n",
            "Ep 1 (Step 000370): Train loss 2.067, Val loss 2.363\n",
            "Ep 1 (Step 000375): Train loss 2.299, Val loss 2.385\n",
            "Ep 1 (Step 000380): Train loss 2.146, Val loss 2.411\n",
            "Ep 1 (Step 000385): Train loss 2.240, Val loss 2.396\n",
            "Ep 1 (Step 000390): Train loss 2.296, Val loss 2.349\n",
            "Ep 1 (Step 000395): Train loss 1.992, Val loss 2.323\n",
            "Ep 1 (Step 000400): Train loss 2.414, Val loss 2.407\n",
            "Ep 1 (Step 000405): Train loss 2.472, Val loss 2.395\n",
            "Ep 1 (Step 000410): Train loss 2.034, Val loss 2.314\n",
            "Ep 1 (Step 000415): Train loss 2.222, Val loss 2.334\n",
            "Ep 1 (Step 000420): Train loss 1.994, Val loss 2.226\n",
            "Ep 1 (Step 000425): Train loss 1.926, Val loss 2.197\n",
            "Ep 1 (Step 000430): Train loss 2.195, Val loss 2.173\n",
            "Ep 1 (Step 000435): Train loss 1.958, Val loss 2.195\n",
            "Ep 1 (Step 000440): Train loss 1.980, Val loss 2.207\n",
            "Ep 1 (Step 000445): Train loss 2.021, Val loss 2.274\n",
            "Ep 1 (Step 000450): Train loss 1.898, Val loss 2.289\n",
            "Ep 1 (Step 000455): Train loss 2.274, Val loss 2.346\n",
            "Ep 1 (Step 000460): Train loss 1.816, Val loss 2.188\n",
            "Ep 1 (Step 000465): Train loss 1.941, Val loss 2.173\n",
            "Ep 1 (Step 000470): Train loss 1.972, Val loss 2.099\n",
            "Ep 1 (Step 000475): Train loss 1.980, Val loss 2.160\n",
            "Ep 1 (Step 000480): Train loss 2.129, Val loss 2.182\n",
            "Ep 1 (Step 000485): Train loss 1.967, Val loss 2.149\n",
            "Ep 1 (Step 000490): Train loss 1.944, Val loss 2.107\n",
            "Ep 1 (Step 000495): Train loss 1.826, Val loss 2.102\n",
            "Ep 1 (Step 000500): Train loss 1.868, Val loss 2.220\n",
            "Ep 1 (Step 000505): Train loss 1.883, Val loss 2.071\n",
            "Ep 1 (Step 000510): Train loss 1.821, Val loss 2.058\n",
            "Ep 1 (Step 000515): Train loss 2.044, Val loss 2.012\n",
            "Ep 1 (Step 000520): Train loss 1.711, Val loss 1.966\n",
            "Ep 1 (Step 000525): Train loss 1.695, Val loss 1.954\n",
            "Ep 1 (Step 000530): Train loss 2.101, Val loss 1.992\n",
            "Ep 1 (Step 000535): Train loss 1.744, Val loss 1.989\n",
            "Ep 1 (Step 000540): Train loss 1.807, Val loss 2.007\n",
            "Ep 1 (Step 000545): Train loss 1.895, Val loss 1.980\n",
            "Ep 1 (Step 000550): Train loss 1.691, Val loss 1.969\n",
            "Ep 1 (Step 000555): Train loss 1.546, Val loss 1.913\n",
            "Ep 1 (Step 000560): Train loss 1.582, Val loss 1.853\n",
            "Ep 1 (Step 000565): Train loss 1.389, Val loss 1.839\n",
            "Ep 1 (Step 000570): Train loss 1.374, Val loss 1.727\n",
            "Ep 1 (Step 000575): Train loss 1.657, Val loss 1.704\n",
            "Ep 1 (Step 000580): Train loss 1.426, Val loss 1.718\n",
            "Ep 1 (Step 000585): Train loss 1.371, Val loss 1.746\n",
            "Ep 1 (Step 000590): Train loss 1.425, Val loss 1.741\n",
            "Ep 1 (Step 000595): Train loss 1.470, Val loss 1.697\n",
            "Ep 1 (Step 000600): Train loss 1.524, Val loss 1.639\n",
            "Ep 1 (Step 000605): Train loss 1.543, Val loss 1.654\n",
            "Ep 1 (Step 000610): Train loss 1.481, Val loss 1.709\n",
            "Ep 1 (Step 000615): Train loss 1.385, Val loss 1.649\n",
            "Ep 1 (Step 000620): Train loss 1.323, Val loss 1.606\n",
            "Ep 1 (Step 000625): Train loss 1.190, Val loss 1.535\n",
            "Ep 1 (Step 000630): Train loss 1.136, Val loss 1.531\n",
            "Ep 1 (Step 000635): Train loss 1.469, Val loss 1.534\n",
            "Ep 1 (Step 000640): Train loss 1.340, Val loss 1.491\n",
            "Ep 1 (Step 000645): Train loss 1.276, Val loss 1.492\n",
            "Ep 1 (Step 000650): Train loss 0.996, Val loss 1.442\n",
            "Ep 1 (Step 000655): Train loss 1.383, Val loss 1.422\n",
            "Ep 1 (Step 000660): Train loss 1.082, Val loss 1.337\n",
            "Ep 1 (Step 000665): Train loss 0.997, Val loss 1.298\n",
            "Ep 1 (Step 000670): Train loss 0.989, Val loss 1.313\n",
            "Ep 1 (Step 000675): Train loss 1.057, Val loss 1.294\n",
            "Ep 1 (Step 000680): Train loss 1.124, Val loss 1.241\n",
            "Ep 1 (Step 000685): Train loss 1.292, Val loss 1.265\n",
            "Ep 1 (Step 000690): Train loss 1.092, Val loss 1.263\n",
            "Ep 1 (Step 000695): Train loss 1.060, Val loss 1.246\n",
            "Ep 1 (Step 000700): Train loss 1.042, Val loss 1.235\n",
            "Ep 1 (Step 000705): Train loss 0.912, Val loss 1.183\n",
            "Ep 1 (Step 000710): Train loss 1.097, Val loss 1.178\n",
            "Ep 1 (Step 000715): Train loss 0.972, Val loss 1.150\n",
            "Ep 1 (Step 000720): Train loss 1.176, Val loss 1.175\n",
            "Ep 1 (Step 000725): Train loss 1.048, Val loss 1.184\n",
            "Ep 1 (Step 000730): Train loss 0.994, Val loss 1.176\n",
            "Ep 1 (Step 000735): Train loss 1.013, Val loss 1.247\n",
            "Ep 1 (Step 000740): Train loss 1.079, Val loss 1.280\n",
            "Ep 1 (Step 000745): Train loss 1.223, Val loss 1.235\n",
            "Ep 1 (Step 000750): Train loss 1.084, Val loss 1.353\n",
            "Ep 1 (Step 000755): Train loss 1.143, Val loss 1.259\n",
            "Ep 1 (Step 000760): Train loss 0.776, Val loss 1.139\n",
            "Ep 1 (Step 000765): Train loss 0.805, Val loss 1.227\n",
            "Ep 1 (Step 000770): Train loss 1.128, Val loss 1.295\n",
            "Ep 1 (Step 000775): Train loss 0.978, Val loss 1.169\n",
            "Ep 1 (Step 000780): Train loss 0.968, Val loss 1.084\n",
            "Ep 1 (Step 000785): Train loss 0.848, Val loss 1.045\n",
            "Ep 1 (Step 000790): Train loss 0.967, Val loss 1.076\n",
            "Ep 1 (Step 000795): Train loss 0.914, Val loss 1.095\n",
            "Ep 1 (Step 000800): Train loss 0.882, Val loss 1.075\n",
            "Ep 1 (Step 000805): Train loss 0.934, Val loss 1.057\n",
            "Ep 1 (Step 000810): Train loss 1.112, Val loss 1.030\n",
            "Ep 1 (Step 000815): Train loss 0.749, Val loss 0.996\n",
            "Ep 1 (Step 000820): Train loss 1.141, Val loss 0.994\n",
            "Ep 1 (Step 000825): Train loss 1.022, Val loss 1.013\n",
            "Ep 1 (Step 000830): Train loss 0.776, Val loss 1.029\n",
            "Ep 1 (Step 000835): Train loss 1.000, Val loss 1.075\n",
            "Ep 1 (Step 000840): Train loss 1.374, Val loss 1.597\n",
            "Ep 1 (Step 000845): Train loss 1.190, Val loss 1.540\n",
            "Ep 1 (Step 000850): Train loss 1.309, Val loss 1.216\n",
            "Ep 1 (Step 000855): Train loss 1.134, Val loss 1.234\n",
            "Ep 1 (Step 000860): Train loss 0.975, Val loss 1.185\n",
            "Ep 1 (Step 000865): Train loss 1.074, Val loss 1.200\n",
            "Ep 1 (Step 000870): Train loss 0.772, Val loss 1.239\n",
            "Ep 1 (Step 000875): Train loss 0.903, Val loss 1.177\n",
            "Ep 1 (Step 000880): Train loss 0.944, Val loss 1.259\n",
            "Ep 1 (Step 000885): Train loss 0.699, Val loss 1.100\n",
            "Ep 1 (Step 000890): Train loss 0.635, Val loss 1.064\n",
            "Ep 1 (Step 000895): Train loss 0.679, Val loss 1.040\n",
            "Ep 1 (Step 000900): Train loss 0.733, Val loss 1.095\n",
            "Ep 1 (Step 000905): Train loss 0.894, Val loss 1.148\n",
            "Ep 1 (Step 000910): Train loss 0.909, Val loss 1.092\n",
            "Ep 1 (Step 000915): Train loss 0.759, Val loss 1.010\n",
            "Ep 1 (Step 000920): Train loss 0.625, Val loss 0.977\n",
            "Ep 1 (Step 000925): Train loss 0.845, Val loss 0.953\n",
            "Ep 1 (Step 000930): Train loss 0.602, Val loss 0.972\n",
            "Ep 1 (Step 000935): Train loss 0.724, Val loss 0.964\n",
            "Ep 1 (Step 000940): Train loss 0.653, Val loss 0.986\n",
            "Ep 1 (Step 000945): Train loss 0.626, Val loss 0.967\n",
            "Ep 1 (Step 000950): Train loss 0.777, Val loss 0.949\n",
            "Ep 1 (Step 000955): Train loss 0.811, Val loss 0.957\n",
            "Ep 1 (Step 000960): Train loss 0.857, Val loss 1.021\n",
            "Ep 1 (Step 000965): Train loss 0.826, Val loss 0.948\n",
            "Ep 1 (Step 000970): Train loss 0.713, Val loss 0.951\n",
            "Ep 1 (Step 000975): Train loss 0.698, Val loss 0.982\n",
            "Ep 1 (Step 000980): Train loss 0.652, Val loss 0.968\n",
            "Ep 1 (Step 000985): Train loss 0.665, Val loss 0.908\n",
            "Ep 1 (Step 000990): Train loss 0.727, Val loss 0.890\n",
            "Ep 1 (Step 000995): Train loss 0.685, Val loss 0.848\n",
            "Ep 1 (Step 001000): Train loss 0.648, Val loss 0.870\n",
            "Ep 1 (Step 001005): Train loss 0.640, Val loss 0.925\n",
            "Ep 1 (Step 001010): Train loss 0.692, Val loss 0.915\n",
            "Ep 1 (Step 001015): Train loss 0.775, Val loss 0.968\n",
            "Ep 1 (Step 001020): Train loss 0.736, Val loss 0.988\n",
            "Ep 1 (Step 001025): Train loss 0.556, Val loss 0.820\n",
            "Ep 1 (Step 001030): Train loss 0.589, Val loss 0.798\n",
            "Ep 1 (Step 001035): Train loss 0.620, Val loss 0.815\n",
            "Ep 1 (Step 001040): Train loss 0.683, Val loss 0.870\n",
            "Ep 1 (Step 001045): Train loss 0.791, Val loss 0.995\n",
            "Ep 1 (Step 001050): Train loss 0.618, Val loss 0.930\n",
            "Ep 1 (Step 001055): Train loss 0.525, Val loss 0.869\n",
            "Ep 1 (Step 001060): Train loss 0.641, Val loss 0.834\n",
            "Ep 1 (Step 001065): Train loss 0.626, Val loss 0.807\n",
            "Ep 1 (Step 001070): Train loss 0.580, Val loss 0.796\n",
            "Ep 1 (Step 001075): Train loss 0.675, Val loss 0.811\n",
            "Ep 1 (Step 001080): Train loss 0.614, Val loss 0.796\n",
            "Ep 1 (Step 001085): Train loss 0.559, Val loss 0.782\n",
            "Ep 1 (Step 001090): Train loss 0.499, Val loss 0.779\n",
            "Ep 1 (Step 001095): Train loss 0.672, Val loss 0.747\n",
            "Ep 1 (Step 001100): Train loss 0.428, Val loss 0.761\n",
            "Ep 1 (Step 001105): Train loss 0.435, Val loss 0.745\n",
            "Ep 1 (Step 001110): Train loss 0.420, Val loss 0.727\n",
            "Ep 1 (Step 001115): Train loss 0.422, Val loss 0.708\n",
            "Ep 1 (Step 001120): Train loss 0.507, Val loss 0.691\n",
            "Ep 1 (Step 001125): Train loss 0.449, Val loss 0.713\n",
            "Ep 1 (Step 001130): Train loss 0.568, Val loss 0.756\n",
            "Ep 1 (Step 001135): Train loss 0.490, Val loss 0.733\n",
            "Ep 1 (Step 001140): Train loss 0.533, Val loss 0.724\n",
            "Ep 1 (Step 001145): Train loss 0.544, Val loss 0.711\n",
            "Ep 1 (Step 001150): Train loss 0.408, Val loss 0.732\n",
            "Ep 1 (Step 001155): Train loss 0.597, Val loss 0.711\n",
            "Ep 1 (Step 001160): Train loss 0.407, Val loss 0.725\n",
            "Ep 1 (Step 001165): Train loss 0.544, Val loss 0.680\n",
            "Ep 1 (Step 001170): Train loss 0.460, Val loss 0.655\n",
            "Ep 1 (Step 001175): Train loss 0.506, Val loss 0.677\n",
            "Ep 1 (Step 001180): Train loss 0.432, Val loss 0.662\n",
            "Ep 1 (Step 001185): Train loss 0.424, Val loss 0.691\n",
            "Ep 1 (Step 001190): Train loss 0.352, Val loss 0.693\n",
            "Ep 1 (Step 001195): Train loss 0.497, Val loss 0.676\n",
            "Ep 1 (Step 001200): Train loss 0.498, Val loss 0.661\n",
            "Ep 1 (Step 001205): Train loss 0.425, Val loss 0.642\n",
            "Ep 1 (Step 001210): Train loss 0.401, Val loss 0.650\n",
            "Ep 1 (Step 001215): Train loss 0.366, Val loss 0.656\n",
            "Ep 1 (Step 001220): Train loss 0.472, Val loss 0.671\n",
            "Ep 1 (Step 001225): Train loss 0.451, Val loss 0.661\n",
            "Ep 1 (Step 001230): Train loss 0.484, Val loss 0.675\n",
            "Ep 1 (Step 001235): Train loss 0.476, Val loss 0.663\n",
            "Ep 1 (Step 001240): Train loss 0.410, Val loss 0.637\n",
            "Ep 1 (Step 001245): Train loss 0.401, Val loss 0.633\n",
            "Ep 1 (Step 001250): Train loss 0.433, Val loss 0.635\n",
            "Ep 1 (Step 001255): Train loss 0.409, Val loss 0.644\n",
            "Ep 1 (Step 001260): Train loss 0.340, Val loss 0.628\n",
            "Ep 1 (Step 001265): Train loss 0.353, Val loss 0.617\n",
            "Ep 1 (Step 001270): Train loss 0.333, Val loss 0.608\n",
            "Ep 1 (Step 001275): Train loss 0.364, Val loss 0.609\n",
            "Ep 1 (Step 001280): Train loss 0.424, Val loss 0.590\n",
            "Ep 1 (Step 001285): Train loss 0.283, Val loss 0.610\n",
            "Ep 1 (Step 001290): Train loss 0.384, Val loss 0.582\n",
            "Ep 1 (Step 001295): Train loss 0.397, Val loss 0.599\n",
            "Ep 1 (Step 001300): Train loss 0.310, Val loss 0.605\n",
            "Ep 1 (Step 001305): Train loss 0.325, Val loss 0.583\n",
            "Ep 1 (Step 001310): Train loss 0.507, Val loss 0.590\n",
            "Ep 1 (Step 001315): Train loss 0.368, Val loss 0.567\n",
            "Ep 1 (Step 001320): Train loss 0.460, Val loss 0.587\n",
            "Ep 1 (Step 001325): Train loss 0.324, Val loss 0.578\n",
            "Ep 1 (Step 001330): Train loss 0.313, Val loss 0.569\n",
            "Ep 1 (Step 001335): Train loss 0.423, Val loss 0.591\n",
            "Ep 1 (Step 001340): Train loss 0.356, Val loss 0.651\n",
            "Ep 1 (Step 001345): Train loss 0.591, Val loss 0.746\n",
            "Ep 1 (Step 001350): Train loss 0.654, Val loss 0.919\n",
            "Ep 1 (Step 001355): Train loss 0.298, Val loss 0.674\n",
            "Ep 1 (Step 001360): Train loss 0.421, Val loss 0.642\n",
            "Ep 1 (Step 001365): Train loss 0.387, Val loss 0.642\n",
            "Ep 1 (Step 001370): Train loss 0.275, Val loss 0.606\n",
            "Ep 1 (Step 001375): Train loss 0.307, Val loss 0.575\n",
            "Ep 1 (Step 001380): Train loss 0.415, Val loss 0.577\n",
            "Ep 1 (Step 001385): Train loss 0.379, Val loss 0.608\n",
            "Ep 1 (Step 001390): Train loss 0.445, Val loss 0.577\n",
            "Ep 1 (Step 001395): Train loss 0.477, Val loss 0.574\n",
            "Ep 1 (Step 001400): Train loss 0.457, Val loss 0.592\n",
            "Ep 1 (Step 001405): Train loss 0.432, Val loss 0.597\n",
            "Ep 1 (Step 001410): Train loss 0.310, Val loss 0.551\n",
            "Ep 1 (Step 001415): Train loss 0.321, Val loss 0.573\n",
            "Ep 1 (Step 001420): Train loss 0.401, Val loss 0.563\n",
            "Ep 1 (Step 001425): Train loss 0.367, Val loss 0.597\n",
            "Ep 1 (Step 001430): Train loss 0.353, Val loss 0.596\n",
            "Ep 1 (Step 001435): Train loss 0.325, Val loss 0.539\n",
            "Ep 1 (Step 001440): Train loss 0.293, Val loss 0.519\n",
            "Ep 1 (Step 001445): Train loss 0.363, Val loss 0.541\n",
            "Ep 1 (Step 001450): Train loss 0.207, Val loss 0.536\n",
            "Ep 1 (Step 001455): Train loss 0.336, Val loss 0.541\n",
            "Ep 1 (Step 001460): Train loss 0.321, Val loss 0.510\n",
            "Ep 1 (Step 001465): Train loss 0.405, Val loss 0.517\n",
            "Ep 1 (Step 001470): Train loss 0.281, Val loss 0.534\n",
            "Ep 1 (Step 001475): Train loss 0.276, Val loss 0.544\n",
            "Ep 1 (Step 001480): Train loss 0.242, Val loss 0.517\n",
            "Ep 1 (Step 001485): Train loss 0.281, Val loss 0.525\n",
            "Ep 1 (Step 001490): Train loss 0.196, Val loss 0.542\n",
            "Ep 1 (Step 001495): Train loss 0.268, Val loss 0.517\n",
            "Ep 1 (Step 001500): Train loss 0.319, Val loss 0.501\n",
            "Ep 1 (Step 001505): Train loss 0.339, Val loss 0.511\n",
            "Ep 1 (Step 001510): Train loss 0.329, Val loss 0.508\n",
            "Ep 1 (Step 001515): Train loss 0.284, Val loss 0.504\n",
            "Ep 1 (Step 001520): Train loss 0.254, Val loss 0.500\n",
            "Ep 1 (Step 001525): Train loss 0.258, Val loss 0.486\n",
            "Ep 1 (Step 001530): Train loss 0.248, Val loss 0.485\n",
            "Ep 1 (Step 001535): Train loss 0.327, Val loss 0.478\n",
            "Ep 1 (Step 001540): Train loss 0.222, Val loss 0.498\n",
            "Ep 1 (Step 001545): Train loss 0.278, Val loss 0.506\n",
            "Ep 1 (Step 001550): Train loss 0.269, Val loss 0.489\n",
            "Ep 1 (Step 001555): Train loss 0.223, Val loss 0.480\n",
            "Ep 1 (Step 001560): Train loss 0.270, Val loss 0.471\n",
            "Ep 1 (Step 001565): Train loss 0.174, Val loss 0.461\n",
            "Ep 1 (Step 001570): Train loss 0.207, Val loss 0.452\n",
            "Ep 1 (Step 001575): Train loss 0.198, Val loss 0.436\n",
            "Ep 1 (Step 001580): Train loss 0.217, Val loss 0.442\n",
            "Ep 1 (Step 001585): Train loss 0.308, Val loss 0.445\n",
            "Ep 1 (Step 001590): Train loss 0.232, Val loss 0.455\n",
            "Ep 1 (Step 001595): Train loss 0.274, Val loss 0.448\n",
            "Ep 1 (Step 001600): Train loss 0.192, Val loss 0.438\n",
            "Ep 1 (Step 001605): Train loss 0.144, Val loss 0.446\n",
            "Ep 1 (Step 001610): Train loss 0.203, Val loss 0.455\n",
            "Ep 1 (Step 001615): Train loss 0.306, Val loss 0.438\n",
            "Ep 1 (Step 001620): Train loss 0.233, Val loss 0.432\n",
            "Ep 1 (Step 001625): Train loss 0.230, Val loss 0.433\n",
            "Ep 1 (Step 001630): Train loss 0.232, Val loss 0.440\n",
            "Ep 1 (Step 001635): Train loss 0.217, Val loss 0.454\n",
            "Ep 1 (Step 001640): Train loss 0.199, Val loss 0.469\n",
            "Ep 1 (Step 001645): Train loss 0.289, Val loss 0.499\n",
            "एक समय की बात है है है है है है है है है है है है है है है है है है है है है है है है है है है है है है है है है है है है है है है है है है है है है है है है है है है\n",
            "Ep 2 (Step 001650): Train loss 0.183, Val loss 0.479\n",
            "Ep 2 (Step 001655): Train loss 0.245, Val loss 0.455\n",
            "Ep 2 (Step 001660): Train loss 0.147, Val loss 0.429\n",
            "Ep 2 (Step 001665): Train loss 0.163, Val loss 0.432\n",
            "Ep 2 (Step 001670): Train loss 0.141, Val loss 0.431\n",
            "Ep 2 (Step 001675): Train loss 0.227, Val loss 0.447\n",
            "Ep 2 (Step 001680): Train loss 0.198, Val loss 0.492\n",
            "Ep 2 (Step 001685): Train loss 0.261, Val loss 0.547\n",
            "Ep 2 (Step 001690): Train loss 0.155, Val loss 0.487\n",
            "Ep 2 (Step 001695): Train loss 0.196, Val loss 0.456\n",
            "Ep 2 (Step 001700): Train loss 0.167, Val loss 0.422\n",
            "Ep 2 (Step 001705): Train loss 0.139, Val loss 0.429\n",
            "Ep 2 (Step 001710): Train loss 0.176, Val loss 0.407\n",
            "Ep 2 (Step 001715): Train loss 0.150, Val loss 0.413\n",
            "Ep 2 (Step 001720): Train loss 0.150, Val loss 0.451\n",
            "Ep 2 (Step 001725): Train loss 0.227, Val loss 0.443\n",
            "Ep 2 (Step 001730): Train loss 0.122, Val loss 0.443\n",
            "Ep 2 (Step 001735): Train loss 0.190, Val loss 0.454\n",
            "Ep 2 (Step 001740): Train loss 0.248, Val loss 0.442\n",
            "Ep 2 (Step 001745): Train loss 0.136, Val loss 0.433\n",
            "Ep 2 (Step 001750): Train loss 0.189, Val loss 0.430\n",
            "Ep 2 (Step 001755): Train loss 0.116, Val loss 0.427\n",
            "Ep 2 (Step 001760): Train loss 0.122, Val loss 0.422\n",
            "Ep 2 (Step 001765): Train loss 0.160, Val loss 0.410\n",
            "Ep 2 (Step 001770): Train loss 0.139, Val loss 0.407\n",
            "Ep 2 (Step 001775): Train loss 0.208, Val loss 0.406\n",
            "Ep 2 (Step 001780): Train loss 0.200, Val loss 0.415\n",
            "Ep 2 (Step 001785): Train loss 0.119, Val loss 0.416\n",
            "Ep 2 (Step 001790): Train loss 0.253, Val loss 0.404\n",
            "Ep 2 (Step 001795): Train loss 0.122, Val loss 0.394\n",
            "Ep 2 (Step 001800): Train loss 0.151, Val loss 0.402\n",
            "Ep 2 (Step 001805): Train loss 0.140, Val loss 0.401\n",
            "Ep 2 (Step 001810): Train loss 0.212, Val loss 0.405\n",
            "Ep 2 (Step 001815): Train loss 0.168, Val loss 0.430\n",
            "Ep 2 (Step 001820): Train loss 0.149, Val loss 0.433\n",
            "Ep 2 (Step 001825): Train loss 0.171, Val loss 0.432\n",
            "Ep 2 (Step 001830): Train loss 0.189, Val loss 0.431\n",
            "Ep 2 (Step 001835): Train loss 0.159, Val loss 0.427\n",
            "Ep 2 (Step 001840): Train loss 0.220, Val loss 0.425\n",
            "Ep 2 (Step 001845): Train loss 0.133, Val loss 0.435\n",
            "Ep 2 (Step 001850): Train loss 0.151, Val loss 0.435\n",
            "Ep 2 (Step 001855): Train loss 0.156, Val loss 0.420\n",
            "Ep 2 (Step 001860): Train loss 0.145, Val loss 0.414\n",
            "Ep 2 (Step 001865): Train loss 0.170, Val loss 0.405\n",
            "Ep 2 (Step 001870): Train loss 0.139, Val loss 0.424\n",
            "Ep 2 (Step 001875): Train loss 0.272, Val loss 0.449\n",
            "Ep 2 (Step 001880): Train loss 0.184, Val loss 0.417\n",
            "Ep 2 (Step 001885): Train loss 0.200, Val loss 0.403\n",
            "Ep 2 (Step 001890): Train loss 0.145, Val loss 0.405\n",
            "Ep 2 (Step 001895): Train loss 0.219, Val loss 0.401\n"
          ]
        },
        {
          "output_type": "error",
          "ename": "KeyboardInterrupt",
          "evalue": "",
          "traceback": [
            "\u001b[0;31m---------------------------------------------------------------------------\u001b[0m",
            "\u001b[0;31mKeyboardInterrupt\u001b[0m                         Traceback (most recent call last)",
            "\u001b[0;32m<ipython-input-23-6ce2400aa470>\u001b[0m in \u001b[0;36m<cell line: 0>\u001b[0;34m()\u001b[0m\n\u001b[1;32m     11\u001b[0m \u001b[0mnum_epochs\u001b[0m \u001b[0;34m=\u001b[0m \u001b[0;36m5\u001b[0m\u001b[0;34m\u001b[0m\u001b[0;34m\u001b[0m\u001b[0m\n\u001b[1;32m     12\u001b[0m \u001b[0;34m\u001b[0m\u001b[0m\n\u001b[0;32m---> 13\u001b[0;31m train_losses, val_losses, tokens_seen = train_model_simple(\n\u001b[0m\u001b[1;32m     14\u001b[0m     \u001b[0mmodel\u001b[0m\u001b[0;34m,\u001b[0m \u001b[0mtrain_loader\u001b[0m\u001b[0;34m,\u001b[0m \u001b[0mval_loader\u001b[0m\u001b[0;34m,\u001b[0m \u001b[0moptimizer\u001b[0m\u001b[0;34m,\u001b[0m \u001b[0margs\u001b[0m\u001b[0;34m.\u001b[0m\u001b[0mdevice\u001b[0m\u001b[0;34m,\u001b[0m\u001b[0;34m\u001b[0m\u001b[0;34m\u001b[0m\u001b[0m\n\u001b[1;32m     15\u001b[0m     \u001b[0mnum_epochs\u001b[0m\u001b[0;34m=\u001b[0m\u001b[0mnum_epochs\u001b[0m\u001b[0;34m,\u001b[0m \u001b[0meval_freq\u001b[0m\u001b[0;34m=\u001b[0m\u001b[0;36m5\u001b[0m\u001b[0;34m,\u001b[0m \u001b[0meval_iter\u001b[0m\u001b[0;34m=\u001b[0m\u001b[0;36m5\u001b[0m\u001b[0;34m,\u001b[0m\u001b[0;34m\u001b[0m\u001b[0;34m\u001b[0m\u001b[0m\n",
            "\u001b[0;32m<ipython-input-18-8a22f91758e3>\u001b[0m in \u001b[0;36mtrain_model_simple\u001b[0;34m(model, train_loader, val_loader, optimizer, device, num_epochs, eval_freq, eval_iter, start_context, tokenizer)\u001b[0m\n\u001b[1;32m     17\u001b[0m             \u001b[0mglobal_step\u001b[0m \u001b[0;34m+=\u001b[0m \u001b[0;36m1\u001b[0m\u001b[0;34m\u001b[0m\u001b[0;34m\u001b[0m\u001b[0m\n\u001b[1;32m     18\u001b[0m             \u001b[0;32mif\u001b[0m \u001b[0mglobal_step\u001b[0m \u001b[0;34m%\u001b[0m \u001b[0meval_freq\u001b[0m \u001b[0;34m==\u001b[0m \u001b[0;36m0\u001b[0m\u001b[0;34m:\u001b[0m \u001b[0;31m# Optional evaluation\u001b[0m\u001b[0;34m\u001b[0m\u001b[0;34m\u001b[0m\u001b[0m\n\u001b[0;32m---> 19\u001b[0;31m                 \u001b[0mtrain_loss\u001b[0m\u001b[0;34m,\u001b[0m \u001b[0mval_loss\u001b[0m \u001b[0;34m=\u001b[0m \u001b[0mevaluate_model\u001b[0m\u001b[0;34m(\u001b[0m\u001b[0mmodel\u001b[0m\u001b[0;34m,\u001b[0m \u001b[0mtrain_loader\u001b[0m\u001b[0;34m,\u001b[0m \u001b[0mval_loader\u001b[0m\u001b[0;34m,\u001b[0m \u001b[0mdevice\u001b[0m\u001b[0;34m,\u001b[0m \u001b[0meval_iter\u001b[0m\u001b[0;34m)\u001b[0m\u001b[0;34m\u001b[0m\u001b[0;34m\u001b[0m\u001b[0m\n\u001b[0m\u001b[1;32m     20\u001b[0m                 \u001b[0mtrain_losses\u001b[0m\u001b[0;34m.\u001b[0m\u001b[0mappend\u001b[0m\u001b[0;34m(\u001b[0m\u001b[0mtrain_loss\u001b[0m\u001b[0;34m)\u001b[0m\u001b[0;34m\u001b[0m\u001b[0;34m\u001b[0m\u001b[0m\n\u001b[1;32m     21\u001b[0m                 \u001b[0mval_losses\u001b[0m\u001b[0;34m.\u001b[0m\u001b[0mappend\u001b[0m\u001b[0;34m(\u001b[0m\u001b[0mval_loss\u001b[0m\u001b[0;34m)\u001b[0m\u001b[0;34m\u001b[0m\u001b[0;34m\u001b[0m\u001b[0m\n",
            "\u001b[0;32m<ipython-input-19-37fd0d9d973f>\u001b[0m in \u001b[0;36mevaluate_model\u001b[0;34m(model, train_loader, val_loader, device, eval_iter)\u001b[0m\n\u001b[1;32m      3\u001b[0m     \u001b[0mmodel\u001b[0m\u001b[0;34m.\u001b[0m\u001b[0meval\u001b[0m\u001b[0;34m(\u001b[0m\u001b[0;34m)\u001b[0m     \u001b[0;31m# dropouts are disabled\u001b[0m\u001b[0;34m\u001b[0m\u001b[0;34m\u001b[0m\u001b[0m\n\u001b[1;32m      4\u001b[0m     \u001b[0;32mwith\u001b[0m \u001b[0mtorch\u001b[0m\u001b[0;34m.\u001b[0m\u001b[0mno_grad\u001b[0m\u001b[0;34m(\u001b[0m\u001b[0;34m)\u001b[0m\u001b[0;34m:\u001b[0m \u001b[0;31m# disablibng the graddient tracking\u001b[0m\u001b[0;34m\u001b[0m\u001b[0;34m\u001b[0m\u001b[0m\n\u001b[0;32m----> 5\u001b[0;31m         train_loss = calc_loss_loader(\n\u001b[0m\u001b[1;32m      6\u001b[0m                     \u001b[0mtrain_loader\u001b[0m\u001b[0;34m,\u001b[0m \u001b[0mmodel\u001b[0m\u001b[0;34m,\u001b[0m \u001b[0mdevice\u001b[0m\u001b[0;34m,\u001b[0m \u001b[0mnum_batches\u001b[0m\u001b[0;34m=\u001b[0m\u001b[0meval_iter\u001b[0m\u001b[0;34m\u001b[0m\u001b[0;34m\u001b[0m\u001b[0m\n\u001b[1;32m      7\u001b[0m             )\n",
            "\u001b[0;32m<ipython-input-16-7e5138630afc>\u001b[0m in \u001b[0;36mcalc_loss_loader\u001b[0;34m(data_loader, model, device, num_batches)\u001b[0m\n\u001b[1;32m     12\u001b[0m                 \u001b[0minput_batch\u001b[0m\u001b[0;34m,\u001b[0m \u001b[0mtarget_batch\u001b[0m\u001b[0;34m,\u001b[0m \u001b[0mmodel\u001b[0m\u001b[0;34m,\u001b[0m \u001b[0mdevice\u001b[0m\u001b[0;34m\u001b[0m\u001b[0;34m\u001b[0m\u001b[0m\n\u001b[1;32m     13\u001b[0m             )\n\u001b[0;32m---> 14\u001b[0;31m             \u001b[0mtotal_loss\u001b[0m \u001b[0;34m+=\u001b[0m \u001b[0mloss\u001b[0m\u001b[0;34m.\u001b[0m\u001b[0mitem\u001b[0m\u001b[0;34m(\u001b[0m\u001b[0;34m)\u001b[0m\u001b[0;34m\u001b[0m\u001b[0;34m\u001b[0m\u001b[0m\n\u001b[0m\u001b[1;32m     15\u001b[0m         \u001b[0;32melse\u001b[0m\u001b[0;34m:\u001b[0m\u001b[0;34m\u001b[0m\u001b[0;34m\u001b[0m\u001b[0m\n\u001b[1;32m     16\u001b[0m             \u001b[0;32mbreak\u001b[0m\u001b[0;34m\u001b[0m\u001b[0;34m\u001b[0m\u001b[0m\n",
            "\u001b[0;31mKeyboardInterrupt\u001b[0m: "
          ]
        }
      ],
      "source": [
        "# Ready.... Set.... Go!\n",
        "torch.manual_seed(123)\n",
        "\n",
        "# model = GPTModel(GPT_CONFIG_124M)\n",
        "# model.to(device)\n",
        "\n",
        "optimizer = torch.optim.AdamW(\n",
        "    model.parameters(),\n",
        "    lr=0.0004, weight_decay=0.1\n",
        ")\n",
        "num_epochs = 5\n",
        "\n",
        "train_losses, val_losses, tokens_seen = train_model_simple(\n",
        "    model, train_loader, val_loader, optimizer, args.device,\n",
        "    num_epochs=num_epochs, eval_freq=5, eval_iter=5,\n",
        "    start_context=\"एक समय की बात है\", tokenizer=tokenizer\n",
        ")"
      ]
    },
    {
      "cell_type": "code",
      "source": [
        "generate_and_print_sample(model, tokenizer, args.device, \"एक समय की बात |\")"
      ],
      "metadata": {
        "id": "1EE9Bx9ddAjI",
        "outputId": "b47a0bc3-9009-4bb9-fe4b-b2f418ec5780",
        "colab": {
          "base_uri": "https://localhost:8080/"
        }
      },
      "execution_count": 28,
      "outputs": [
        {
          "output_type": "stream",
          "name": "stdout",
          "text": [
            "एक समय की बात | चांदी चांदी एक एक एक एक एक चांदी चांदी चांदी पांच पांच पांच पांच पांच चांदी चांदी चांदी पांच पांच पांच पांच पांच पांच पांच पांच पांच पांच पांच पांच पांच पांच पांच पांच पांच पांच पांच पांच पांच पांच पांच पांच पांच पांच पांच पांच पांच पांच पांच पांच\n"
          ]
        }
      ]
    },
    {
      "cell_type": "code",
      "source": [
        "def generate(model, idx, max_new_tokens, context_size,\n",
        "    temperature=0.0, top_k=None, eos_id=None):\n",
        "    for _ in range(max_new_tokens): # The for loop is the same as before: gets logits and only focuses on the last time step.\n",
        "        idx_cond = idx[:, -context_size:]\n",
        "        with torch.no_grad():\n",
        "            logits = model(idx_cond)\n",
        "            logits = logits[:, -1, :]\n",
        "            if top_k is not None: # filters logits to only consider the top-k tokens\n",
        "                top_logits, _ = torch.topk(logits, top_k)\n",
        "                min_val = top_logits[:, -1]\n",
        "                logits = torch.where(\n",
        "                    logits < min_val,\n",
        "                    torch.tensor(float('-inf')).to(logits.device),\n",
        "                    logits\n",
        "                )\n",
        "            if temperature > 0.0: # applies temperature scaling\n",
        "                logits = logits / temperature\n",
        "                probs = torch.softmax(logits, dim=-1)\n",
        "                idx_next = torch.multinomial(probs, num_samples=1)\n",
        "            else:\n",
        "                idx_next = torch.argmax(logits, dim=-1, keepdim=True)\n",
        "            if idx_next == eos_id: # Stops generating early if end-of-sequence token is encountered\n",
        "                break\n",
        "            idx = torch.cat((idx, idx_next), dim=1)\n",
        "    return idx"
      ],
      "metadata": {
        "id": "04PmetC_dGqE"
      },
      "execution_count": 30,
      "outputs": []
    },
    {
      "cell_type": "code",
      "source": [
        "token_ids_out = generate(\n",
        "    model=model,\n",
        "    idx=text_to_token_ids(\"एक समय की बात \", tokenizer),\n",
        "    max_new_tokens=25,\n",
        "    context_size=args.max_seq_len,\n",
        "    top_k=15,\n",
        "    temperature=4\n",
        ")\n",
        "print(\"Output text:\\n\", token_ids_to_text(token_ids_out, tokenizer))"
      ],
      "metadata": {
        "id": "uIX8KhJzd9oK",
        "outputId": "403bfcaa-afc0-49aa-f509-ea40d62e1d85",
        "colab": {
          "base_uri": "https://localhost:8080/"
        }
      },
      "execution_count": 36,
      "outputs": [
        {
          "output_type": "stream",
          "name": "stdout",
          "text": [
            "Output text:\n",
            " एक समय की बात कों जाली हि झटपट आदि बनाता डालेंगे डालेंगे देवताओं खा सकेंगें दसवें दसवें पशुओं बनाने लगे वैसा बड़ी बड़ी पहिली दक्खिन मैदे ड़ों ईश्वरों बनी\n"
          ]
        }
      ]
    },
    {
      "cell_type": "code",
      "source": [],
      "metadata": {
        "id": "nhRAREOMd9lG"
      },
      "execution_count": null,
      "outputs": []
    }
  ],
  "metadata": {
    "accelerator": "GPU",
    "colab": {
      "gpuType": "T4",
      "provenance": [],
      "include_colab_link": true
    },
    "kernelspec": {
      "display_name": "base",
      "language": "python",
      "name": "python3"
    },
    "language_info": {
      "codemirror_mode": {
        "name": "ipython",
        "version": 3
      },
      "file_extension": ".py",
      "mimetype": "text/x-python",
      "name": "python",
      "nbconvert_exporter": "python",
      "pygments_lexer": "ipython3",
      "version": "3.11.5"
    },
    "widgets": {
      "application/vnd.jupyter.widget-state+json": {
        "ca1b42a2bcb34e95b099c1eb69aae19d": {
          "model_module": "@jupyter-widgets/controls",
          "model_name": "HBoxModel",
          "model_module_version": "1.5.0",
          "state": {
            "_dom_classes": [],
            "_model_module": "@jupyter-widgets/controls",
            "_model_module_version": "1.5.0",
            "_model_name": "HBoxModel",
            "_view_count": null,
            "_view_module": "@jupyter-widgets/controls",
            "_view_module_version": "1.5.0",
            "_view_name": "HBoxView",
            "box_style": "",
            "children": [
              "IPY_MODEL_ac6da783ff35464b8863693f63bd1b46",
              "IPY_MODEL_0d57851e14874841b75f8a23bdca43b2",
              "IPY_MODEL_c39dd3bceb5946fdb33ce72a919b301a"
            ],
            "layout": "IPY_MODEL_538054ec5bcd44918f31a632f7bd4312"
          }
        },
        "ac6da783ff35464b8863693f63bd1b46": {
          "model_module": "@jupyter-widgets/controls",
          "model_name": "HTMLModel",
          "model_module_version": "1.5.0",
          "state": {
            "_dom_classes": [],
            "_model_module": "@jupyter-widgets/controls",
            "_model_module_version": "1.5.0",
            "_model_name": "HTMLModel",
            "_view_count": null,
            "_view_module": "@jupyter-widgets/controls",
            "_view_module_version": "1.5.0",
            "_view_name": "HTMLView",
            "description": "",
            "description_tooltip": null,
            "layout": "IPY_MODEL_78b759d3b7ef49f7961e850fea206263",
            "placeholder": "​",
            "style": "IPY_MODEL_9fded0615fca4c768b747634950610cd",
            "value": "tokenizer_config.json: 100%"
          }
        },
        "0d57851e14874841b75f8a23bdca43b2": {
          "model_module": "@jupyter-widgets/controls",
          "model_name": "FloatProgressModel",
          "model_module_version": "1.5.0",
          "state": {
            "_dom_classes": [],
            "_model_module": "@jupyter-widgets/controls",
            "_model_module_version": "1.5.0",
            "_model_name": "FloatProgressModel",
            "_view_count": null,
            "_view_module": "@jupyter-widgets/controls",
            "_view_module_version": "1.5.0",
            "_view_name": "ProgressView",
            "bar_style": "success",
            "description": "",
            "description_tooltip": null,
            "layout": "IPY_MODEL_cf71605a66914521a52dbc8bec1e6066",
            "max": 707,
            "min": 0,
            "orientation": "horizontal",
            "style": "IPY_MODEL_7ebe120562aa43feb3c3f859c1386eca",
            "value": 707
          }
        },
        "c39dd3bceb5946fdb33ce72a919b301a": {
          "model_module": "@jupyter-widgets/controls",
          "model_name": "HTMLModel",
          "model_module_version": "1.5.0",
          "state": {
            "_dom_classes": [],
            "_model_module": "@jupyter-widgets/controls",
            "_model_module_version": "1.5.0",
            "_model_name": "HTMLModel",
            "_view_count": null,
            "_view_module": "@jupyter-widgets/controls",
            "_view_module_version": "1.5.0",
            "_view_name": "HTMLView",
            "description": "",
            "description_tooltip": null,
            "layout": "IPY_MODEL_c29175b03b05464f953eb1c921783526",
            "placeholder": "​",
            "style": "IPY_MODEL_c0cdf3a6873447aca0db9635451a2977",
            "value": " 707/707 [00:00&lt;00:00, 71.2kB/s]"
          }
        },
        "538054ec5bcd44918f31a632f7bd4312": {
          "model_module": "@jupyter-widgets/base",
          "model_name": "LayoutModel",
          "model_module_version": "1.2.0",
          "state": {
            "_model_module": "@jupyter-widgets/base",
            "_model_module_version": "1.2.0",
            "_model_name": "LayoutModel",
            "_view_count": null,
            "_view_module": "@jupyter-widgets/base",
            "_view_module_version": "1.2.0",
            "_view_name": "LayoutView",
            "align_content": null,
            "align_items": null,
            "align_self": null,
            "border": null,
            "bottom": null,
            "display": null,
            "flex": null,
            "flex_flow": null,
            "grid_area": null,
            "grid_auto_columns": null,
            "grid_auto_flow": null,
            "grid_auto_rows": null,
            "grid_column": null,
            "grid_gap": null,
            "grid_row": null,
            "grid_template_areas": null,
            "grid_template_columns": null,
            "grid_template_rows": null,
            "height": null,
            "justify_content": null,
            "justify_items": null,
            "left": null,
            "margin": null,
            "max_height": null,
            "max_width": null,
            "min_height": null,
            "min_width": null,
            "object_fit": null,
            "object_position": null,
            "order": null,
            "overflow": null,
            "overflow_x": null,
            "overflow_y": null,
            "padding": null,
            "right": null,
            "top": null,
            "visibility": null,
            "width": null
          }
        },
        "78b759d3b7ef49f7961e850fea206263": {
          "model_module": "@jupyter-widgets/base",
          "model_name": "LayoutModel",
          "model_module_version": "1.2.0",
          "state": {
            "_model_module": "@jupyter-widgets/base",
            "_model_module_version": "1.2.0",
            "_model_name": "LayoutModel",
            "_view_count": null,
            "_view_module": "@jupyter-widgets/base",
            "_view_module_version": "1.2.0",
            "_view_name": "LayoutView",
            "align_content": null,
            "align_items": null,
            "align_self": null,
            "border": null,
            "bottom": null,
            "display": null,
            "flex": null,
            "flex_flow": null,
            "grid_area": null,
            "grid_auto_columns": null,
            "grid_auto_flow": null,
            "grid_auto_rows": null,
            "grid_column": null,
            "grid_gap": null,
            "grid_row": null,
            "grid_template_areas": null,
            "grid_template_columns": null,
            "grid_template_rows": null,
            "height": null,
            "justify_content": null,
            "justify_items": null,
            "left": null,
            "margin": null,
            "max_height": null,
            "max_width": null,
            "min_height": null,
            "min_width": null,
            "object_fit": null,
            "object_position": null,
            "order": null,
            "overflow": null,
            "overflow_x": null,
            "overflow_y": null,
            "padding": null,
            "right": null,
            "top": null,
            "visibility": null,
            "width": null
          }
        },
        "9fded0615fca4c768b747634950610cd": {
          "model_module": "@jupyter-widgets/controls",
          "model_name": "DescriptionStyleModel",
          "model_module_version": "1.5.0",
          "state": {
            "_model_module": "@jupyter-widgets/controls",
            "_model_module_version": "1.5.0",
            "_model_name": "DescriptionStyleModel",
            "_view_count": null,
            "_view_module": "@jupyter-widgets/base",
            "_view_module_version": "1.2.0",
            "_view_name": "StyleView",
            "description_width": ""
          }
        },
        "cf71605a66914521a52dbc8bec1e6066": {
          "model_module": "@jupyter-widgets/base",
          "model_name": "LayoutModel",
          "model_module_version": "1.2.0",
          "state": {
            "_model_module": "@jupyter-widgets/base",
            "_model_module_version": "1.2.0",
            "_model_name": "LayoutModel",
            "_view_count": null,
            "_view_module": "@jupyter-widgets/base",
            "_view_module_version": "1.2.0",
            "_view_name": "LayoutView",
            "align_content": null,
            "align_items": null,
            "align_self": null,
            "border": null,
            "bottom": null,
            "display": null,
            "flex": null,
            "flex_flow": null,
            "grid_area": null,
            "grid_auto_columns": null,
            "grid_auto_flow": null,
            "grid_auto_rows": null,
            "grid_column": null,
            "grid_gap": null,
            "grid_row": null,
            "grid_template_areas": null,
            "grid_template_columns": null,
            "grid_template_rows": null,
            "height": null,
            "justify_content": null,
            "justify_items": null,
            "left": null,
            "margin": null,
            "max_height": null,
            "max_width": null,
            "min_height": null,
            "min_width": null,
            "object_fit": null,
            "object_position": null,
            "order": null,
            "overflow": null,
            "overflow_x": null,
            "overflow_y": null,
            "padding": null,
            "right": null,
            "top": null,
            "visibility": null,
            "width": null
          }
        },
        "7ebe120562aa43feb3c3f859c1386eca": {
          "model_module": "@jupyter-widgets/controls",
          "model_name": "ProgressStyleModel",
          "model_module_version": "1.5.0",
          "state": {
            "_model_module": "@jupyter-widgets/controls",
            "_model_module_version": "1.5.0",
            "_model_name": "ProgressStyleModel",
            "_view_count": null,
            "_view_module": "@jupyter-widgets/base",
            "_view_module_version": "1.2.0",
            "_view_name": "StyleView",
            "bar_color": null,
            "description_width": ""
          }
        },
        "c29175b03b05464f953eb1c921783526": {
          "model_module": "@jupyter-widgets/base",
          "model_name": "LayoutModel",
          "model_module_version": "1.2.0",
          "state": {
            "_model_module": "@jupyter-widgets/base",
            "_model_module_version": "1.2.0",
            "_model_name": "LayoutModel",
            "_view_count": null,
            "_view_module": "@jupyter-widgets/base",
            "_view_module_version": "1.2.0",
            "_view_name": "LayoutView",
            "align_content": null,
            "align_items": null,
            "align_self": null,
            "border": null,
            "bottom": null,
            "display": null,
            "flex": null,
            "flex_flow": null,
            "grid_area": null,
            "grid_auto_columns": null,
            "grid_auto_flow": null,
            "grid_auto_rows": null,
            "grid_column": null,
            "grid_gap": null,
            "grid_row": null,
            "grid_template_areas": null,
            "grid_template_columns": null,
            "grid_template_rows": null,
            "height": null,
            "justify_content": null,
            "justify_items": null,
            "left": null,
            "margin": null,
            "max_height": null,
            "max_width": null,
            "min_height": null,
            "min_width": null,
            "object_fit": null,
            "object_position": null,
            "order": null,
            "overflow": null,
            "overflow_x": null,
            "overflow_y": null,
            "padding": null,
            "right": null,
            "top": null,
            "visibility": null,
            "width": null
          }
        },
        "c0cdf3a6873447aca0db9635451a2977": {
          "model_module": "@jupyter-widgets/controls",
          "model_name": "DescriptionStyleModel",
          "model_module_version": "1.5.0",
          "state": {
            "_model_module": "@jupyter-widgets/controls",
            "_model_module_version": "1.5.0",
            "_model_name": "DescriptionStyleModel",
            "_view_count": null,
            "_view_module": "@jupyter-widgets/base",
            "_view_module_version": "1.2.0",
            "_view_name": "StyleView",
            "description_width": ""
          }
        },
        "29b0a08432a8467e8c41c05743026bfd": {
          "model_module": "@jupyter-widgets/controls",
          "model_name": "HBoxModel",
          "model_module_version": "1.5.0",
          "state": {
            "_dom_classes": [],
            "_model_module": "@jupyter-widgets/controls",
            "_model_module_version": "1.5.0",
            "_model_name": "HBoxModel",
            "_view_count": null,
            "_view_module": "@jupyter-widgets/controls",
            "_view_module_version": "1.5.0",
            "_view_name": "HBoxView",
            "box_style": "",
            "children": [
              "IPY_MODEL_8cc90787410440919668b444866303e5",
              "IPY_MODEL_f430b4d2ce7d41fab3c93adbece9cbf8",
              "IPY_MODEL_aebf4da823f9455aa13b0495d1aca246"
            ],
            "layout": "IPY_MODEL_36272f2bfa7d4378a799f81fccbfb6e5"
          }
        },
        "8cc90787410440919668b444866303e5": {
          "model_module": "@jupyter-widgets/controls",
          "model_name": "HTMLModel",
          "model_module_version": "1.5.0",
          "state": {
            "_dom_classes": [],
            "_model_module": "@jupyter-widgets/controls",
            "_model_module_version": "1.5.0",
            "_model_name": "HTMLModel",
            "_view_count": null,
            "_view_module": "@jupyter-widgets/controls",
            "_view_module_version": "1.5.0",
            "_view_name": "HTMLView",
            "description": "",
            "description_tooltip": null,
            "layout": "IPY_MODEL_023edbf73f9746b096abf2c45c041e31",
            "placeholder": "​",
            "style": "IPY_MODEL_5470bf38019945698b9aecf315f0df5a",
            "value": "tokenizer.json: 100%"
          }
        },
        "f430b4d2ce7d41fab3c93adbece9cbf8": {
          "model_module": "@jupyter-widgets/controls",
          "model_name": "FloatProgressModel",
          "model_module_version": "1.5.0",
          "state": {
            "_dom_classes": [],
            "_model_module": "@jupyter-widgets/controls",
            "_model_module_version": "1.5.0",
            "_model_name": "FloatProgressModel",
            "_view_count": null,
            "_view_module": "@jupyter-widgets/controls",
            "_view_module_version": "1.5.0",
            "_view_name": "ProgressView",
            "bar_style": "success",
            "description": "",
            "description_tooltip": null,
            "layout": "IPY_MODEL_59840d1aab274a049c7038aab2898454",
            "max": 13441988,
            "min": 0,
            "orientation": "horizontal",
            "style": "IPY_MODEL_26dcb728856d48dba0aa8fc836c06aa9",
            "value": 13441988
          }
        },
        "aebf4da823f9455aa13b0495d1aca246": {
          "model_module": "@jupyter-widgets/controls",
          "model_name": "HTMLModel",
          "model_module_version": "1.5.0",
          "state": {
            "_dom_classes": [],
            "_model_module": "@jupyter-widgets/controls",
            "_model_module_version": "1.5.0",
            "_model_name": "HTMLModel",
            "_view_count": null,
            "_view_module": "@jupyter-widgets/controls",
            "_view_module_version": "1.5.0",
            "_view_name": "HTMLView",
            "description": "",
            "description_tooltip": null,
            "layout": "IPY_MODEL_99f4464dbef44850b8debe738bb22035",
            "placeholder": "​",
            "style": "IPY_MODEL_f065a22e4e194e55b8b1d0c60f0c35b1",
            "value": " 13.4M/13.4M [00:00&lt;00:00, 141MB/s]"
          }
        },
        "36272f2bfa7d4378a799f81fccbfb6e5": {
          "model_module": "@jupyter-widgets/base",
          "model_name": "LayoutModel",
          "model_module_version": "1.2.0",
          "state": {
            "_model_module": "@jupyter-widgets/base",
            "_model_module_version": "1.2.0",
            "_model_name": "LayoutModel",
            "_view_count": null,
            "_view_module": "@jupyter-widgets/base",
            "_view_module_version": "1.2.0",
            "_view_name": "LayoutView",
            "align_content": null,
            "align_items": null,
            "align_self": null,
            "border": null,
            "bottom": null,
            "display": null,
            "flex": null,
            "flex_flow": null,
            "grid_area": null,
            "grid_auto_columns": null,
            "grid_auto_flow": null,
            "grid_auto_rows": null,
            "grid_column": null,
            "grid_gap": null,
            "grid_row": null,
            "grid_template_areas": null,
            "grid_template_columns": null,
            "grid_template_rows": null,
            "height": null,
            "justify_content": null,
            "justify_items": null,
            "left": null,
            "margin": null,
            "max_height": null,
            "max_width": null,
            "min_height": null,
            "min_width": null,
            "object_fit": null,
            "object_position": null,
            "order": null,
            "overflow": null,
            "overflow_x": null,
            "overflow_y": null,
            "padding": null,
            "right": null,
            "top": null,
            "visibility": null,
            "width": null
          }
        },
        "023edbf73f9746b096abf2c45c041e31": {
          "model_module": "@jupyter-widgets/base",
          "model_name": "LayoutModel",
          "model_module_version": "1.2.0",
          "state": {
            "_model_module": "@jupyter-widgets/base",
            "_model_module_version": "1.2.0",
            "_model_name": "LayoutModel",
            "_view_count": null,
            "_view_module": "@jupyter-widgets/base",
            "_view_module_version": "1.2.0",
            "_view_name": "LayoutView",
            "align_content": null,
            "align_items": null,
            "align_self": null,
            "border": null,
            "bottom": null,
            "display": null,
            "flex": null,
            "flex_flow": null,
            "grid_area": null,
            "grid_auto_columns": null,
            "grid_auto_flow": null,
            "grid_auto_rows": null,
            "grid_column": null,
            "grid_gap": null,
            "grid_row": null,
            "grid_template_areas": null,
            "grid_template_columns": null,
            "grid_template_rows": null,
            "height": null,
            "justify_content": null,
            "justify_items": null,
            "left": null,
            "margin": null,
            "max_height": null,
            "max_width": null,
            "min_height": null,
            "min_width": null,
            "object_fit": null,
            "object_position": null,
            "order": null,
            "overflow": null,
            "overflow_x": null,
            "overflow_y": null,
            "padding": null,
            "right": null,
            "top": null,
            "visibility": null,
            "width": null
          }
        },
        "5470bf38019945698b9aecf315f0df5a": {
          "model_module": "@jupyter-widgets/controls",
          "model_name": "DescriptionStyleModel",
          "model_module_version": "1.5.0",
          "state": {
            "_model_module": "@jupyter-widgets/controls",
            "_model_module_version": "1.5.0",
            "_model_name": "DescriptionStyleModel",
            "_view_count": null,
            "_view_module": "@jupyter-widgets/base",
            "_view_module_version": "1.2.0",
            "_view_name": "StyleView",
            "description_width": ""
          }
        },
        "59840d1aab274a049c7038aab2898454": {
          "model_module": "@jupyter-widgets/base",
          "model_name": "LayoutModel",
          "model_module_version": "1.2.0",
          "state": {
            "_model_module": "@jupyter-widgets/base",
            "_model_module_version": "1.2.0",
            "_model_name": "LayoutModel",
            "_view_count": null,
            "_view_module": "@jupyter-widgets/base",
            "_view_module_version": "1.2.0",
            "_view_name": "LayoutView",
            "align_content": null,
            "align_items": null,
            "align_self": null,
            "border": null,
            "bottom": null,
            "display": null,
            "flex": null,
            "flex_flow": null,
            "grid_area": null,
            "grid_auto_columns": null,
            "grid_auto_flow": null,
            "grid_auto_rows": null,
            "grid_column": null,
            "grid_gap": null,
            "grid_row": null,
            "grid_template_areas": null,
            "grid_template_columns": null,
            "grid_template_rows": null,
            "height": null,
            "justify_content": null,
            "justify_items": null,
            "left": null,
            "margin": null,
            "max_height": null,
            "max_width": null,
            "min_height": null,
            "min_width": null,
            "object_fit": null,
            "object_position": null,
            "order": null,
            "overflow": null,
            "overflow_x": null,
            "overflow_y": null,
            "padding": null,
            "right": null,
            "top": null,
            "visibility": null,
            "width": null
          }
        },
        "26dcb728856d48dba0aa8fc836c06aa9": {
          "model_module": "@jupyter-widgets/controls",
          "model_name": "ProgressStyleModel",
          "model_module_version": "1.5.0",
          "state": {
            "_model_module": "@jupyter-widgets/controls",
            "_model_module_version": "1.5.0",
            "_model_name": "ProgressStyleModel",
            "_view_count": null,
            "_view_module": "@jupyter-widgets/base",
            "_view_module_version": "1.2.0",
            "_view_name": "StyleView",
            "bar_color": null,
            "description_width": ""
          }
        },
        "99f4464dbef44850b8debe738bb22035": {
          "model_module": "@jupyter-widgets/base",
          "model_name": "LayoutModel",
          "model_module_version": "1.2.0",
          "state": {
            "_model_module": "@jupyter-widgets/base",
            "_model_module_version": "1.2.0",
            "_model_name": "LayoutModel",
            "_view_count": null,
            "_view_module": "@jupyter-widgets/base",
            "_view_module_version": "1.2.0",
            "_view_name": "LayoutView",
            "align_content": null,
            "align_items": null,
            "align_self": null,
            "border": null,
            "bottom": null,
            "display": null,
            "flex": null,
            "flex_flow": null,
            "grid_area": null,
            "grid_auto_columns": null,
            "grid_auto_flow": null,
            "grid_auto_rows": null,
            "grid_column": null,
            "grid_gap": null,
            "grid_row": null,
            "grid_template_areas": null,
            "grid_template_columns": null,
            "grid_template_rows": null,
            "height": null,
            "justify_content": null,
            "justify_items": null,
            "left": null,
            "margin": null,
            "max_height": null,
            "max_width": null,
            "min_height": null,
            "min_width": null,
            "object_fit": null,
            "object_position": null,
            "order": null,
            "overflow": null,
            "overflow_x": null,
            "overflow_y": null,
            "padding": null,
            "right": null,
            "top": null,
            "visibility": null,
            "width": null
          }
        },
        "f065a22e4e194e55b8b1d0c60f0c35b1": {
          "model_module": "@jupyter-widgets/controls",
          "model_name": "DescriptionStyleModel",
          "model_module_version": "1.5.0",
          "state": {
            "_model_module": "@jupyter-widgets/controls",
            "_model_module_version": "1.5.0",
            "_model_name": "DescriptionStyleModel",
            "_view_count": null,
            "_view_module": "@jupyter-widgets/base",
            "_view_module_version": "1.2.0",
            "_view_name": "StyleView",
            "description_width": ""
          }
        },
        "48f2b9bbe5be4d0bb8d2185f6968ab32": {
          "model_module": "@jupyter-widgets/controls",
          "model_name": "HBoxModel",
          "model_module_version": "1.5.0",
          "state": {
            "_dom_classes": [],
            "_model_module": "@jupyter-widgets/controls",
            "_model_module_version": "1.5.0",
            "_model_name": "HBoxModel",
            "_view_count": null,
            "_view_module": "@jupyter-widgets/controls",
            "_view_module_version": "1.5.0",
            "_view_name": "HBoxView",
            "box_style": "",
            "children": [
              "IPY_MODEL_25c14deb032e47308797d3d4107ae102",
              "IPY_MODEL_fc733a15098a4dd8b97df8d523ec8a30",
              "IPY_MODEL_6ea8ed7ceaaa4a73a92336c6991574c9"
            ],
            "layout": "IPY_MODEL_7d735010eff6495dac1fa77dcdba9587"
          }
        },
        "25c14deb032e47308797d3d4107ae102": {
          "model_module": "@jupyter-widgets/controls",
          "model_name": "HTMLModel",
          "model_module_version": "1.5.0",
          "state": {
            "_dom_classes": [],
            "_model_module": "@jupyter-widgets/controls",
            "_model_module_version": "1.5.0",
            "_model_name": "HTMLModel",
            "_view_count": null,
            "_view_module": "@jupyter-widgets/controls",
            "_view_module_version": "1.5.0",
            "_view_name": "HTMLView",
            "description": "",
            "description_tooltip": null,
            "layout": "IPY_MODEL_2040529f64b248b68c5dcd374c35f5e9",
            "placeholder": "​",
            "style": "IPY_MODEL_306cde3cef444692a47ce669c687cb7b",
            "value": "special_tokens_map.json: 100%"
          }
        },
        "fc733a15098a4dd8b97df8d523ec8a30": {
          "model_module": "@jupyter-widgets/controls",
          "model_name": "FloatProgressModel",
          "model_module_version": "1.5.0",
          "state": {
            "_dom_classes": [],
            "_model_module": "@jupyter-widgets/controls",
            "_model_module_version": "1.5.0",
            "_model_name": "FloatProgressModel",
            "_view_count": null,
            "_view_module": "@jupyter-widgets/controls",
            "_view_module_version": "1.5.0",
            "_view_name": "ProgressView",
            "bar_style": "success",
            "description": "",
            "description_tooltip": null,
            "layout": "IPY_MODEL_d57c820cd7774f14be3ca43ee797e6e2",
            "max": 3,
            "min": 0,
            "orientation": "horizontal",
            "style": "IPY_MODEL_af0e7666e1cb4e0d9f906f1a1df480d9",
            "value": 3
          }
        },
        "6ea8ed7ceaaa4a73a92336c6991574c9": {
          "model_module": "@jupyter-widgets/controls",
          "model_name": "HTMLModel",
          "model_module_version": "1.5.0",
          "state": {
            "_dom_classes": [],
            "_model_module": "@jupyter-widgets/controls",
            "_model_module_version": "1.5.0",
            "_model_name": "HTMLModel",
            "_view_count": null,
            "_view_module": "@jupyter-widgets/controls",
            "_view_module_version": "1.5.0",
            "_view_name": "HTMLView",
            "description": "",
            "description_tooltip": null,
            "layout": "IPY_MODEL_927af06a2b3a4e37a4609141faec09d0",
            "placeholder": "​",
            "style": "IPY_MODEL_c39cf87fc6334375ad0d9668a540d264",
            "value": " 3.00/3.00 [00:00&lt;00:00, 216B/s]"
          }
        },
        "7d735010eff6495dac1fa77dcdba9587": {
          "model_module": "@jupyter-widgets/base",
          "model_name": "LayoutModel",
          "model_module_version": "1.2.0",
          "state": {
            "_model_module": "@jupyter-widgets/base",
            "_model_module_version": "1.2.0",
            "_model_name": "LayoutModel",
            "_view_count": null,
            "_view_module": "@jupyter-widgets/base",
            "_view_module_version": "1.2.0",
            "_view_name": "LayoutView",
            "align_content": null,
            "align_items": null,
            "align_self": null,
            "border": null,
            "bottom": null,
            "display": null,
            "flex": null,
            "flex_flow": null,
            "grid_area": null,
            "grid_auto_columns": null,
            "grid_auto_flow": null,
            "grid_auto_rows": null,
            "grid_column": null,
            "grid_gap": null,
            "grid_row": null,
            "grid_template_areas": null,
            "grid_template_columns": null,
            "grid_template_rows": null,
            "height": null,
            "justify_content": null,
            "justify_items": null,
            "left": null,
            "margin": null,
            "max_height": null,
            "max_width": null,
            "min_height": null,
            "min_width": null,
            "object_fit": null,
            "object_position": null,
            "order": null,
            "overflow": null,
            "overflow_x": null,
            "overflow_y": null,
            "padding": null,
            "right": null,
            "top": null,
            "visibility": null,
            "width": null
          }
        },
        "2040529f64b248b68c5dcd374c35f5e9": {
          "model_module": "@jupyter-widgets/base",
          "model_name": "LayoutModel",
          "model_module_version": "1.2.0",
          "state": {
            "_model_module": "@jupyter-widgets/base",
            "_model_module_version": "1.2.0",
            "_model_name": "LayoutModel",
            "_view_count": null,
            "_view_module": "@jupyter-widgets/base",
            "_view_module_version": "1.2.0",
            "_view_name": "LayoutView",
            "align_content": null,
            "align_items": null,
            "align_self": null,
            "border": null,
            "bottom": null,
            "display": null,
            "flex": null,
            "flex_flow": null,
            "grid_area": null,
            "grid_auto_columns": null,
            "grid_auto_flow": null,
            "grid_auto_rows": null,
            "grid_column": null,
            "grid_gap": null,
            "grid_row": null,
            "grid_template_areas": null,
            "grid_template_columns": null,
            "grid_template_rows": null,
            "height": null,
            "justify_content": null,
            "justify_items": null,
            "left": null,
            "margin": null,
            "max_height": null,
            "max_width": null,
            "min_height": null,
            "min_width": null,
            "object_fit": null,
            "object_position": null,
            "order": null,
            "overflow": null,
            "overflow_x": null,
            "overflow_y": null,
            "padding": null,
            "right": null,
            "top": null,
            "visibility": null,
            "width": null
          }
        },
        "306cde3cef444692a47ce669c687cb7b": {
          "model_module": "@jupyter-widgets/controls",
          "model_name": "DescriptionStyleModel",
          "model_module_version": "1.5.0",
          "state": {
            "_model_module": "@jupyter-widgets/controls",
            "_model_module_version": "1.5.0",
            "_model_name": "DescriptionStyleModel",
            "_view_count": null,
            "_view_module": "@jupyter-widgets/base",
            "_view_module_version": "1.2.0",
            "_view_name": "StyleView",
            "description_width": ""
          }
        },
        "d57c820cd7774f14be3ca43ee797e6e2": {
          "model_module": "@jupyter-widgets/base",
          "model_name": "LayoutModel",
          "model_module_version": "1.2.0",
          "state": {
            "_model_module": "@jupyter-widgets/base",
            "_model_module_version": "1.2.0",
            "_model_name": "LayoutModel",
            "_view_count": null,
            "_view_module": "@jupyter-widgets/base",
            "_view_module_version": "1.2.0",
            "_view_name": "LayoutView",
            "align_content": null,
            "align_items": null,
            "align_self": null,
            "border": null,
            "bottom": null,
            "display": null,
            "flex": null,
            "flex_flow": null,
            "grid_area": null,
            "grid_auto_columns": null,
            "grid_auto_flow": null,
            "grid_auto_rows": null,
            "grid_column": null,
            "grid_gap": null,
            "grid_row": null,
            "grid_template_areas": null,
            "grid_template_columns": null,
            "grid_template_rows": null,
            "height": null,
            "justify_content": null,
            "justify_items": null,
            "left": null,
            "margin": null,
            "max_height": null,
            "max_width": null,
            "min_height": null,
            "min_width": null,
            "object_fit": null,
            "object_position": null,
            "order": null,
            "overflow": null,
            "overflow_x": null,
            "overflow_y": null,
            "padding": null,
            "right": null,
            "top": null,
            "visibility": null,
            "width": null
          }
        },
        "af0e7666e1cb4e0d9f906f1a1df480d9": {
          "model_module": "@jupyter-widgets/controls",
          "model_name": "ProgressStyleModel",
          "model_module_version": "1.5.0",
          "state": {
            "_model_module": "@jupyter-widgets/controls",
            "_model_module_version": "1.5.0",
            "_model_name": "ProgressStyleModel",
            "_view_count": null,
            "_view_module": "@jupyter-widgets/base",
            "_view_module_version": "1.2.0",
            "_view_name": "StyleView",
            "bar_color": null,
            "description_width": ""
          }
        },
        "927af06a2b3a4e37a4609141faec09d0": {
          "model_module": "@jupyter-widgets/base",
          "model_name": "LayoutModel",
          "model_module_version": "1.2.0",
          "state": {
            "_model_module": "@jupyter-widgets/base",
            "_model_module_version": "1.2.0",
            "_model_name": "LayoutModel",
            "_view_count": null,
            "_view_module": "@jupyter-widgets/base",
            "_view_module_version": "1.2.0",
            "_view_name": "LayoutView",
            "align_content": null,
            "align_items": null,
            "align_self": null,
            "border": null,
            "bottom": null,
            "display": null,
            "flex": null,
            "flex_flow": null,
            "grid_area": null,
            "grid_auto_columns": null,
            "grid_auto_flow": null,
            "grid_auto_rows": null,
            "grid_column": null,
            "grid_gap": null,
            "grid_row": null,
            "grid_template_areas": null,
            "grid_template_columns": null,
            "grid_template_rows": null,
            "height": null,
            "justify_content": null,
            "justify_items": null,
            "left": null,
            "margin": null,
            "max_height": null,
            "max_width": null,
            "min_height": null,
            "min_width": null,
            "object_fit": null,
            "object_position": null,
            "order": null,
            "overflow": null,
            "overflow_x": null,
            "overflow_y": null,
            "padding": null,
            "right": null,
            "top": null,
            "visibility": null,
            "width": null
          }
        },
        "c39cf87fc6334375ad0d9668a540d264": {
          "model_module": "@jupyter-widgets/controls",
          "model_name": "DescriptionStyleModel",
          "model_module_version": "1.5.0",
          "state": {
            "_model_module": "@jupyter-widgets/controls",
            "_model_module_version": "1.5.0",
            "_model_name": "DescriptionStyleModel",
            "_view_count": null,
            "_view_module": "@jupyter-widgets/base",
            "_view_module_version": "1.2.0",
            "_view_name": "StyleView",
            "description_width": ""
          }
        }
      }
    }
  },
  "nbformat": 4,
  "nbformat_minor": 0
}