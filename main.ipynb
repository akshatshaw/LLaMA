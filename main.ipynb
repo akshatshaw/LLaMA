{
 "cells": [
  {
   "cell_type": "markdown",
   "metadata": {},
   "source": [
    "# Implimenting LLaMA model in PyTorch"
   ]
  },
  {
   "cell_type": "code",
   "execution_count": 1,
   "metadata": {},
   "outputs": [],
   "source": [
    "import RMSNorm"
   ]
  },
  {
   "cell_type": "code",
   "execution_count": 2,
   "metadata": {},
   "outputs": [],
   "source": [
    "from typing import Optional\n",
    "class ModelArgs:\n",
    "    dim: int = 4096\n",
    "    n_layers: int = 32\n",
    "    n_heads: int = 32\n",
    "    n_kv_heads: Optional[int] = None\n",
    "    vocab_size: int = -1 # Later set in the build method\n",
    "    multiple_of: int = 256\n",
    "    ffn_dim_multiplier: Optional[float] = None\n",
    "    norm_eps: float = 1e-5\n",
    "    theta: float = 10000.0\n",
    "    \n",
    "    # Needed for KV cache\n",
    "    max_batch_size: int = 32\n",
    "    max_seq_len: int = 2048\n",
    "\n",
    "    device: str = \"cuda\""
   ]
  },
  {
   "cell_type": "code",
   "execution_count": 3,
   "metadata": {},
   "outputs": [
    {
     "name": "stdout",
     "output_type": "stream",
     "text": [
      "--------------------------------------------------\n",
      "torch.Size([1, 2048, 2048]) torch.Size([1, 1, 2048, 2048])\n",
      "--------------------------------------------------\n"
     ]
    },
    {
     "data": {
      "text/plain": [
       "torch.Size([1, 2048, 4096])"
      ]
     },
     "execution_count": 3,
     "metadata": {},
     "output_type": "execute_result"
    }
   ],
   "source": [
    "import torch\n",
    "from RoPE import rope \n",
    "\n",
    "rope = rope(ModelArgs.dim, ModelArgs.max_seq_len, ModelArgs.device, ModelArgs.theta)\n",
    "\n",
    "x = torch.randn(1, 2048, 4096).to(\"cuda\")\n",
    "rope(x).shape"
   ]
  },
  {
   "cell_type": "code",
   "execution_count": 4,
   "metadata": {},
   "outputs": [],
   "source": [
    "# import torch\n",
    "# from torch import nn\n",
    "# class MHA_KVCache(nn.Module):\n",
    "#     def __init__(self, args:ModelArgs,  qkv_bias=False):\n",
    "#         super().__init__()\n",
    "#         # Indicates the number of heads for the Keys and Values\n",
    "#         self.n_kv_heads = args.n_heads if args.n_kv_heads is None else args.n_kv_heads\n",
    "#         # Indicates the number of heads for the Queries\n",
    "#         self.n_heads_q = args.n_heads\n",
    "#         # Indicates how many times the Keys and Values should be repeated\n",
    "#         self.n_rep = self.n_heads_q // self.n_kv_heads\n",
    "#         # Indicates the dimension of each head, that is, the part of the embedding that each head will be responsible for\n",
    "#         self.head_dim = args.dim // args.n_heads\n",
    "        \n",
    "#         dim = args.dim\n",
    "#         self.dim = dim\n",
    "#         self.head_dim  = dim // args.n_heads \n",
    "#         self.W_query = nn.Linear(dim, dim, bias=qkv_bias)\n",
    "#         self.W_key = nn.Linear(dim, dim, bias=qkv_bias)\n",
    "#         self.W_value = nn.Linear(dim, dim, bias=qkv_bias)\n",
    "#         self.out_proj = nn.Linear(dim, dim) \n",
    "        \n",
    "#         self.cache_k = torch.zeros((args.max_batch_size, args.max_seq_len, self.n_kv_heads, self.head_dim))\n",
    "#         self.cache_v = torch.zeros((args.max_batch_size, args.max_seq_len, self.n_kv_heads, self.head_dim))\n",
    "\n",
    "        \n",
    "#     def repeat_kv(x: torch.Tensor, n_rep: int) -> torch.Tensor:\n",
    "#         batch_size, seq_len, n_kv_heads, head_dim = x.shape\n",
    "#         if n_rep == 1:\n",
    "#             return x\n",
    "#         return (\n",
    "#             # (B, Seq_Len, N_KV_Heads, 1, Head_Dim)\n",
    "#             x[:, :, :, None, :]\n",
    "#             # (B, Seq_Len, N_KV_Heads, N_Rep, Head_Dim)\n",
    "#             .expand(batch_size, seq_len, n_kv_heads, n_rep, head_dim)\n",
    "#             # (B, Seq_Len, N_KV_Heads * N_Rep, Head_Dim)\n",
    "#             .reshape(batch_size, seq_len, n_kv_heads * n_rep, head_dim)\n",
    "#         )\n",
    "        \n",
    "#     def forward(self,\n",
    "#         x: torch.Tensor):\n",
    "#         batch_size, seq_len, d_in = x.shape\n",
    "        \n",
    "#         xk = self.W_key(x) \n",
    "#         xq = self.W_query(x) \n",
    "#         xv = self.W_value(x)\n",
    "        \n",
    "#         xk = xk.view(batch_size, seq_len, self.n_kv_heads, self.head_dim) \n",
    "#         xv = xv.view(batch_size, seq_len, self.n_kv_heads, self.head_dim) \n",
    "#         xq = xq.view(batch_size, seq_len, self.n_heads_q,  self.head_dim) \n",
    "        \n",
    "#         xq = rope(xq)\n",
    "#         xk = rope(xk)\n",
    "#         start_pos = 0\n",
    "        \n",
    "#         # Replace the entry in the cache\n",
    "#         self.cache_k[:batch_size, start_pos : start_pos + seq_len] = xk\n",
    "#         self.cache_v[:batch_size, start_pos : start_pos + seq_len] = xv\n",
    "\n",
    "#         keys = self.cache_k[:batch_size, : start_pos + seq_len]\n",
    "#         values = self.cache_v[:batch_size, : start_pos + seq_len]\n",
    "        \n",
    "#         # Since every group of Q shares the same K and V heads, just repeat the K and V heads for every Q in the same group.\n",
    "#         keys = repeat_kv(keys, self.n_rep)\n",
    "#         values = repeat_kv(values, self.n_rep)\n",
    "\n",
    "#         xq = xq.transpose(1, 2)\n",
    "#         keys = keys.transpose(1, 2)\n",
    "#         values = values.transpose(1, 2)\n",
    "\n",
    "#         scores = torch.matmul(xq, keys.transpose(2, 3)) / math.sqrt(self.head_dim)\n",
    "#         scores = F.softmax(scores.float(), dim=-1).type_as(xq)\n",
    "\n",
    "#         output = torch.matmul(scores, values)\n",
    "#         output = (output.transpose(1, 2).contiguous().view(batch_size, seq_len, -1))\n",
    "#         return self.out_proj(output) "
   ]
  },
  {
   "cell_type": "code",
   "execution_count": 5,
   "metadata": {},
   "outputs": [],
   "source": [
    "import torch\n",
    "from torch import nn\n",
    "import math\n",
    "import torch.nn.functional as F\n",
    "\n",
    "class MHA_KVCache(nn.Module):\n",
    "    def __init__(self, args, qkv_bias=False):\n",
    "        super().__init__()\n",
    "        self.n_kv_heads = args.n_heads if args.n_kv_heads is None else args.n_kv_heads\n",
    "        self.n_heads_q = args.n_heads\n",
    "        self.n_rep = self.n_heads_q // self.n_kv_heads\n",
    "        self.head_dim = args.dim // args.n_heads\n",
    "        self.dim = args.dim\n",
    "        \n",
    "        self.W_query = nn.Linear(self.dim, self.head_dim*self.n_heads_q , bias=qkv_bias).to(\"cuda\")\n",
    "        self.W_key = nn.Linear(self.dim, self.n_kv_heads*self.head_dim, bias=qkv_bias).to(\"cuda\")\n",
    "        self.W_value = nn.Linear(self.dim, self.n_kv_heads*self.head_dim, bias=qkv_bias).to(\"cuda\")\n",
    "        self.out_proj = nn.Linear(args.n_heads*self.head_dim, self.dim).to(\"cuda\")\n",
    "        \n",
    "        self.cache_k = torch.zeros((args.max_batch_size, args.max_seq_len, self.n_kv_heads, self.head_dim)).to(\"cuda\")\n",
    "        self.cache_v = torch.zeros((args.max_batch_size, args.max_seq_len, self.n_kv_heads, self.head_dim)).to(\"cuda\")\n",
    "\n",
    "    @staticmethod\n",
    "    def repeat_kv(x: torch.Tensor, n_rep: int) -> torch.Tensor:\n",
    "        batch_size, seq_len, n_kv_heads, head_dim = x.shape\n",
    "        if n_rep == 1:\n",
    "            return x\n",
    "        return (\n",
    "            x[:, :, :, None, :]\n",
    "            .expand(batch_size, seq_len, n_kv_heads, n_rep, head_dim)\n",
    "            .reshape(batch_size, seq_len, n_kv_heads * n_rep, head_dim)\n",
    "        )\n",
    "        \n",
    "    def forward(self, x: torch.Tensor, start_pos: int = 0):\n",
    "        batch_size, seq_len, _ = x.shape\n",
    "        \n",
    "        # Project queries, keys, values\n",
    "        xq, xk, xv = self.W_query(x), self.W_key(x), self.W_value(x)\n",
    "        \n",
    "        # Reshape to (batch_size, seq_len, num_heads, head_dim)\n",
    "        xq = xq.view(batch_size, seq_len, self.n_heads_q, self.head_dim).to(\"cuda\")\n",
    "        xk = xk.view(batch_size, seq_len, self.n_kv_heads, self.head_dim).to(\"cuda\")\n",
    "        xv = xv.view(batch_size, seq_len, self.n_kv_heads, self.head_dim).to(\"cuda\")\n",
    "        \n",
    "        print(xq.shape, xk.shape, xv.shape)\n",
    "        \n",
    "        # Apply RoPE with position offset\n",
    "        xq = rope(xq)\n",
    "        xk = rope(xk)\n",
    "        \n",
    "        # Update KV cache\n",
    "        self.cache_k[:batch_size, start_pos:start_pos+seq_len] = xk\n",
    "        self.cache_v[:batch_size, start_pos:start_pos+seq_len] = xv\n",
    "        \n",
    "        # Retrieve cached keys/values including current sequence\n",
    "        keys = self.cache_k[:batch_size, :start_pos+seq_len]\n",
    "        values = self.cache_v[:batch_size, :start_pos+seq_len]\n",
    "        \n",
    "        # Repeat KV heads to match Q heads\n",
    "        keys = self.repeat_kv(keys, self.n_rep)\n",
    "        values = self.repeat_kv(values, self.n_rep)\n",
    "        \n",
    "        # Transpose for attention computation\n",
    "        xq = xq.transpose(1, 2)  # (bs, n_heads_q, seq_len, hd)\n",
    "        keys = keys.transpose(1, 2)  # (bs, n_heads_kv*rep, cache_len, hd)\n",
    "        values = values.transpose(1, 2)  # (bs, n_heads_kv*rep, cache_len, hd)\n",
    "        \n",
    "        # Compute attention scores\n",
    "        scores = torch.matmul(xq, keys.transpose(2, 3)) / math.sqrt(self.head_dim)\n",
    "        scores = F.softmax(scores.float(), dim=-1).type_as(xq)\n",
    "        \n",
    "        # Weighted sum of values\n",
    "        output = torch.matmul(scores, values)  # (bs, n_heads_q, seq_len, hd)\n",
    "        \n",
    "        # Combine heads and project\n",
    "        output = output.transpose(1, 2).contiguous().view(batch_size, seq_len, -1)\n",
    "        return self.out_proj(output).to(\"cuda\")"
   ]
  },
  {
   "cell_type": "code",
   "execution_count": 6,
   "metadata": {},
   "outputs": [],
   "source": [
    "mha = MHA_KVCache(ModelArgs)"
   ]
  },
  {
   "cell_type": "code",
   "execution_count": 7,
   "metadata": {},
   "outputs": [],
   "source": [
    "x= torch.randn(1, 2048, 4096).to(\"cuda\")"
   ]
  },
  {
   "cell_type": "code",
   "execution_count": 8,
   "metadata": {},
   "outputs": [
    {
     "name": "stdout",
     "output_type": "stream",
     "text": [
      "--------------------------------------------------\n",
      "torch.Size([1, 2048, 2048]) torch.Size([1, 1, 2048, 2048])\n",
      "--------------------------------------------------\n"
     ]
    },
    {
     "data": {
      "text/plain": [
       "torch.Size([1, 2048, 4096])"
      ]
     },
     "execution_count": 8,
     "metadata": {},
     "output_type": "execute_result"
    }
   ],
   "source": [
    "rope(x).shape"
   ]
  },
  {
   "cell_type": "code",
   "execution_count": 10,
   "metadata": {},
   "outputs": [
    {
     "data": {
      "text/plain": [
       "4"
      ]
     },
     "execution_count": 10,
     "metadata": {},
     "output_type": "execute_result"
    }
   ],
   "source": [
    "128//32"
   ]
  },
  {
   "cell_type": "code",
   "execution_count": 9,
   "metadata": {},
   "outputs": [
    {
     "name": "stdout",
     "output_type": "stream",
     "text": [
      "torch.Size([1, 2048, 32, 128]) torch.Size([1, 2048, 32, 128]) torch.Size([1, 2048, 32, 128])\n",
      "--------------------------------------------------\n",
      "torch.Size([1, 2048, 32, 64]) torch.Size([1, 1, 2048, 2048])\n",
      "--------------------------------------------------\n"
     ]
    },
    {
     "ename": "RuntimeError",
     "evalue": "The size of tensor a (64) must match the size of tensor b (2048) at non-singleton dimension 3",
     "output_type": "error",
     "traceback": [
      "\u001b[1;31m---------------------------------------------------------------------------\u001b[0m",
      "\u001b[1;31mRuntimeError\u001b[0m                              Traceback (most recent call last)",
      "Cell \u001b[1;32mIn[9], line 1\u001b[0m\n\u001b[1;32m----> 1\u001b[0m out\u001b[38;5;241m=\u001b[39m mha(x, start_pos\u001b[38;5;241m=\u001b[39m\u001b[38;5;241m0\u001b[39m)\n",
      "File \u001b[1;32mc:\\Users\\AKSHAT SHAW\\anaconda3\\Lib\\site-packages\\torch\\nn\\modules\\module.py:1736\u001b[0m, in \u001b[0;36mModule._wrapped_call_impl\u001b[1;34m(self, *args, **kwargs)\u001b[0m\n\u001b[0;32m   1734\u001b[0m     \u001b[38;5;28;01mreturn\u001b[39;00m \u001b[38;5;28mself\u001b[39m\u001b[38;5;241m.\u001b[39m_compiled_call_impl(\u001b[38;5;241m*\u001b[39margs, \u001b[38;5;241m*\u001b[39m\u001b[38;5;241m*\u001b[39mkwargs)  \u001b[38;5;66;03m# type: ignore[misc]\u001b[39;00m\n\u001b[0;32m   1735\u001b[0m \u001b[38;5;28;01melse\u001b[39;00m:\n\u001b[1;32m-> 1736\u001b[0m     \u001b[38;5;28;01mreturn\u001b[39;00m \u001b[38;5;28mself\u001b[39m\u001b[38;5;241m.\u001b[39m_call_impl(\u001b[38;5;241m*\u001b[39margs, \u001b[38;5;241m*\u001b[39m\u001b[38;5;241m*\u001b[39mkwargs)\n",
      "File \u001b[1;32mc:\\Users\\AKSHAT SHAW\\anaconda3\\Lib\\site-packages\\torch\\nn\\modules\\module.py:1747\u001b[0m, in \u001b[0;36mModule._call_impl\u001b[1;34m(self, *args, **kwargs)\u001b[0m\n\u001b[0;32m   1742\u001b[0m \u001b[38;5;66;03m# If we don't have any hooks, we want to skip the rest of the logic in\u001b[39;00m\n\u001b[0;32m   1743\u001b[0m \u001b[38;5;66;03m# this function, and just call forward.\u001b[39;00m\n\u001b[0;32m   1744\u001b[0m \u001b[38;5;28;01mif\u001b[39;00m \u001b[38;5;129;01mnot\u001b[39;00m (\u001b[38;5;28mself\u001b[39m\u001b[38;5;241m.\u001b[39m_backward_hooks \u001b[38;5;129;01mor\u001b[39;00m \u001b[38;5;28mself\u001b[39m\u001b[38;5;241m.\u001b[39m_backward_pre_hooks \u001b[38;5;129;01mor\u001b[39;00m \u001b[38;5;28mself\u001b[39m\u001b[38;5;241m.\u001b[39m_forward_hooks \u001b[38;5;129;01mor\u001b[39;00m \u001b[38;5;28mself\u001b[39m\u001b[38;5;241m.\u001b[39m_forward_pre_hooks\n\u001b[0;32m   1745\u001b[0m         \u001b[38;5;129;01mor\u001b[39;00m _global_backward_pre_hooks \u001b[38;5;129;01mor\u001b[39;00m _global_backward_hooks\n\u001b[0;32m   1746\u001b[0m         \u001b[38;5;129;01mor\u001b[39;00m _global_forward_hooks \u001b[38;5;129;01mor\u001b[39;00m _global_forward_pre_hooks):\n\u001b[1;32m-> 1747\u001b[0m     \u001b[38;5;28;01mreturn\u001b[39;00m forward_call(\u001b[38;5;241m*\u001b[39margs, \u001b[38;5;241m*\u001b[39m\u001b[38;5;241m*\u001b[39mkwargs)\n\u001b[0;32m   1749\u001b[0m result \u001b[38;5;241m=\u001b[39m \u001b[38;5;28;01mNone\u001b[39;00m\n\u001b[0;32m   1750\u001b[0m called_always_called_hooks \u001b[38;5;241m=\u001b[39m \u001b[38;5;28mset\u001b[39m()\n",
      "Cell \u001b[1;32mIn[5], line 48\u001b[0m, in \u001b[0;36mMHA_KVCache.forward\u001b[1;34m(self, x, start_pos)\u001b[0m\n\u001b[0;32m     45\u001b[0m \u001b[38;5;28mprint\u001b[39m(xq\u001b[38;5;241m.\u001b[39mshape, xk\u001b[38;5;241m.\u001b[39mshape, xv\u001b[38;5;241m.\u001b[39mshape)\n\u001b[0;32m     47\u001b[0m \u001b[38;5;66;03m# Apply RoPE with position offset\u001b[39;00m\n\u001b[1;32m---> 48\u001b[0m xq \u001b[38;5;241m=\u001b[39m rope(xq)\n\u001b[0;32m     49\u001b[0m xk \u001b[38;5;241m=\u001b[39m rope(xk)\n\u001b[0;32m     51\u001b[0m \u001b[38;5;66;03m# Update KV cache\u001b[39;00m\n",
      "File \u001b[1;32mc:\\Users\\AKSHAT SHAW\\anaconda3\\Lib\\site-packages\\torch\\nn\\modules\\module.py:1736\u001b[0m, in \u001b[0;36mModule._wrapped_call_impl\u001b[1;34m(self, *args, **kwargs)\u001b[0m\n\u001b[0;32m   1734\u001b[0m     \u001b[38;5;28;01mreturn\u001b[39;00m \u001b[38;5;28mself\u001b[39m\u001b[38;5;241m.\u001b[39m_compiled_call_impl(\u001b[38;5;241m*\u001b[39margs, \u001b[38;5;241m*\u001b[39m\u001b[38;5;241m*\u001b[39mkwargs)  \u001b[38;5;66;03m# type: ignore[misc]\u001b[39;00m\n\u001b[0;32m   1735\u001b[0m \u001b[38;5;28;01melse\u001b[39;00m:\n\u001b[1;32m-> 1736\u001b[0m     \u001b[38;5;28;01mreturn\u001b[39;00m \u001b[38;5;28mself\u001b[39m\u001b[38;5;241m.\u001b[39m_call_impl(\u001b[38;5;241m*\u001b[39margs, \u001b[38;5;241m*\u001b[39m\u001b[38;5;241m*\u001b[39mkwargs)\n",
      "File \u001b[1;32mc:\\Users\\AKSHAT SHAW\\anaconda3\\Lib\\site-packages\\torch\\nn\\modules\\module.py:1747\u001b[0m, in \u001b[0;36mModule._call_impl\u001b[1;34m(self, *args, **kwargs)\u001b[0m\n\u001b[0;32m   1742\u001b[0m \u001b[38;5;66;03m# If we don't have any hooks, we want to skip the rest of the logic in\u001b[39;00m\n\u001b[0;32m   1743\u001b[0m \u001b[38;5;66;03m# this function, and just call forward.\u001b[39;00m\n\u001b[0;32m   1744\u001b[0m \u001b[38;5;28;01mif\u001b[39;00m \u001b[38;5;129;01mnot\u001b[39;00m (\u001b[38;5;28mself\u001b[39m\u001b[38;5;241m.\u001b[39m_backward_hooks \u001b[38;5;129;01mor\u001b[39;00m \u001b[38;5;28mself\u001b[39m\u001b[38;5;241m.\u001b[39m_backward_pre_hooks \u001b[38;5;129;01mor\u001b[39;00m \u001b[38;5;28mself\u001b[39m\u001b[38;5;241m.\u001b[39m_forward_hooks \u001b[38;5;129;01mor\u001b[39;00m \u001b[38;5;28mself\u001b[39m\u001b[38;5;241m.\u001b[39m_forward_pre_hooks\n\u001b[0;32m   1745\u001b[0m         \u001b[38;5;129;01mor\u001b[39;00m _global_backward_pre_hooks \u001b[38;5;129;01mor\u001b[39;00m _global_backward_hooks\n\u001b[0;32m   1746\u001b[0m         \u001b[38;5;129;01mor\u001b[39;00m _global_forward_hooks \u001b[38;5;129;01mor\u001b[39;00m _global_forward_pre_hooks):\n\u001b[1;32m-> 1747\u001b[0m     \u001b[38;5;28;01mreturn\u001b[39;00m forward_call(\u001b[38;5;241m*\u001b[39margs, \u001b[38;5;241m*\u001b[39m\u001b[38;5;241m*\u001b[39mkwargs)\n\u001b[0;32m   1749\u001b[0m result \u001b[38;5;241m=\u001b[39m \u001b[38;5;28;01mNone\u001b[39;00m\n\u001b[0;32m   1750\u001b[0m called_always_called_hooks \u001b[38;5;241m=\u001b[39m \u001b[38;5;28mset\u001b[39m()\n",
      "File \u001b[1;32mc:\\Users\\AKSHAT SHAW\\OneDrive - iitr.ac.in\\Desktop\\LLM from scracth\\LLaMA\\RoPE.py:91\u001b[0m, in \u001b[0;36mrope.forward\u001b[1;34m(self, x)\u001b[0m\n\u001b[0;32m     90\u001b[0m \u001b[38;5;28;01mdef\u001b[39;00m \u001b[38;5;21mforward\u001b[39m(\u001b[38;5;28mself\u001b[39m,x):\n\u001b[1;32m---> 91\u001b[0m     \u001b[38;5;28;01mreturn\u001b[39;00m \u001b[38;5;28mself\u001b[39m\u001b[38;5;241m.\u001b[39mrotary_pos_embeds(x,\u001b[38;5;28mself\u001b[39m\u001b[38;5;241m.\u001b[39mdevice)\n",
      "File \u001b[1;32mc:\\Users\\AKSHAT SHAW\\OneDrive - iitr.ac.in\\Desktop\\LLM from scracth\\LLaMA\\RoPE.py:111\u001b[0m, in \u001b[0;36mrope.rotary_pos_embeds\u001b[1;34m(self, x, device)\u001b[0m\n\u001b[0;32m    109\u001b[0m \u001b[38;5;28mprint\u001b[39m(x_complex\u001b[38;5;241m.\u001b[39mshape,freqs_complex\u001b[38;5;241m.\u001b[39mshape)\n\u001b[0;32m    110\u001b[0m \u001b[38;5;28mprint\u001b[39m(\u001b[38;5;124m'\u001b[39m\u001b[38;5;124m-\u001b[39m\u001b[38;5;124m'\u001b[39m\u001b[38;5;241m*\u001b[39m\u001b[38;5;241m50\u001b[39m)\n\u001b[1;32m--> 111\u001b[0m x_rotated\u001b[38;5;241m=\u001b[39mx_complex\u001b[38;5;241m*\u001b[39mfreqs_complex\n\u001b[0;32m    112\u001b[0m x_out\u001b[38;5;241m=\u001b[39mtorch\u001b[38;5;241m.\u001b[39mview_as_real(x_rotated)\n\u001b[0;32m    113\u001b[0m x_out\u001b[38;5;241m=\u001b[39mx_out\u001b[38;5;241m.\u001b[39mreshape(\u001b[38;5;241m*\u001b[39mx\u001b[38;5;241m.\u001b[39mshape)\n",
      "\u001b[1;31mRuntimeError\u001b[0m: The size of tensor a (64) must match the size of tensor b (2048) at non-singleton dimension 3"
     ]
    }
   ],
   "source": [
    "out= mha(x, start_pos=0)"
   ]
  },
  {
   "cell_type": "code",
   "execution_count": 9,
   "metadata": {},
   "outputs": [
    {
     "ename": "NameError",
     "evalue": "name 'out' is not defined",
     "output_type": "error",
     "traceback": [
      "\u001b[1;31m---------------------------------------------------------------------------\u001b[0m",
      "\u001b[1;31mNameError\u001b[0m                                 Traceback (most recent call last)",
      "Cell \u001b[1;32mIn[9], line 1\u001b[0m\n\u001b[1;32m----> 1\u001b[0m out\u001b[38;5;241m.\u001b[39mshape , x\u001b[38;5;241m.\u001b[39mshape\n",
      "\u001b[1;31mNameError\u001b[0m: name 'out' is not defined"
     ]
    }
   ],
   "source": [
    "out.shape , x.shape"
   ]
  },
  {
   "cell_type": "code",
   "execution_count": null,
   "metadata": {},
   "outputs": [],
   "source": []
  }
 ],
 "metadata": {
  "kernelspec": {
   "display_name": "base",
   "language": "python",
   "name": "python3"
  },
  "language_info": {
   "codemirror_mode": {
    "name": "ipython",
    "version": 3
   },
   "file_extension": ".py",
   "mimetype": "text/x-python",
   "name": "python",
   "nbconvert_exporter": "python",
   "pygments_lexer": "ipython3",
   "version": "3.11.5"
  }
 },
 "nbformat": 4,
 "nbformat_minor": 2
}
